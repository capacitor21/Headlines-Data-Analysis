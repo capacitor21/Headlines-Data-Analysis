{
 "metadata": {
  "language_info": {
   "codemirror_mode": {
    "name": "ipython",
    "version": 3
   },
   "file_extension": ".py",
   "mimetype": "text/x-python",
   "name": "python",
   "nbconvert_exporter": "python",
   "pygments_lexer": "ipython3",
   "version": "3.8.3-final"
  },
  "orig_nbformat": 2,
  "kernelspec": {
   "name": "python3",
   "display_name": "Python 3",
   "language": "python"
  }
 },
 "nbformat": 4,
 "nbformat_minor": 2,
 "cells": [
  {
   "cell_type": "code",
   "execution_count": 16,
   "metadata": {
    "tags": []
   },
   "outputs": [],
   "source": [
    "import requests\n",
    "from bs4 import BeautifulSoup\n",
    "import pandas as pd\n",
    "import numpy as np\n",
    "import nltk\n",
    "import nltk.corpus\n",
    "from selenium import webdriver\n",
    "from selenium.webdriver.chrome.options import Options\n",
    "import time\n",
    "\n",
    "res = requests.get(\"https://thehill.com/\")\n",
    "text = res.text\n",
    "\n",
    "soup = BeautifulSoup(text, 'html.parser')\n",
    "\n",
    "titles = []\n",
    "for title in soup.find_all('a'):\n",
    "    #If title already in list don't add\n",
    "    if title.get('title') != None and title.get('title') not in titles and len(title.text.split()) > 2:\n",
    "        titles.append(title.get('title'))\n"
   ]
  },
  {
   "cell_type": "code",
   "execution_count": 2,
   "metadata": {
    "tags": []
   },
   "outputs": [],
   "source": [
    "#Load cnn html using selenium because page is dynamic and need to get the source html\n",
    "PATH = \"C:\\Program Files (x86)\\chromedriver.exe\"\n",
    "\n",
    "opts = Options()\n",
    "opts.set_headless() #keeps window closed\n",
    "browser = webdriver.Chrome(PATH, options=opts) \n",
    "browser.get(\"https://www.cnn.com/\") #run the site\n",
    "\n",
    "cnnHtml = browser.page_source  #get the html\n",
    "\n",
    "time.sleep(5)\n",
    "browser.quit()"
   ]
  },
  {
   "source": [
    "#Get fox html \n",
    "res = requests.get('https://www.foxnews.com/')\n",
    "\n",
    "foxHtml = res.text"
   ],
   "cell_type": "code",
   "metadata": {},
   "execution_count": 3,
   "outputs": []
  },
  {
   "cell_type": "code",
   "execution_count": 18,
   "metadata": {
    "tags": []
   },
   "outputs": [],
   "source": [
    "foxSoup = BeautifulSoup(foxHtml, 'html.parser')\n",
    "\n",
    "articles = foxSoup.find_all('h2', class_ = 'title title-color-default')\n",
    "\n",
    "foxTitles = []\n",
    "for title in articles:\n",
    "    if len(title.text.split()) > 2:\n",
    "        foxTitles.append(title.text)"
   ]
  },
  {
   "cell_type": "code",
   "execution_count": 5,
   "metadata": {},
   "outputs": [],
   "source": [
    "#parsing the cnn titles\n",
    "import re\n",
    "\n",
    "cnnSoup = BeautifulSoup(cnnHtml, 'html.parser')\n",
    "\n",
    "#Get headline elements\n",
    "cnnTags = cnnSoup.find_all('span', class_=\"cd__headline-text vid-left-enabled\")\n",
    "\n",
    "#extract text content\n",
    "cnnTitles = []\n",
    "for title in cnnTags:\n",
    "    if len(title.split(\" \")) > 2:\n",
    "        cnnTitles.append(title.text)"
   ]
  },
  {
   "cell_type": "code",
   "execution_count": 19,
   "metadata": {
    "tags": []
   },
   "outputs": [
    {
     "output_type": "execute_result",
     "data": {
      "text/plain": [
       "                                                  headline    source  \\\n",
       "id                                                                     \n",
       "2319811  Trump, allies raise pressure on Senate GOP ahe...  The Hill   \n",
       "2283315  House formally sends impeachment to Senate, pu...  The Hill   \n",
       "4107730  McConnell: Power-sharing deal can proceed afte...  The Hill   \n",
       "8494529                                        State Watch  The Hill   \n",
       "7332837    Portman planned exit sets off Ohio free-for-all  The Hill   \n",
       "\n",
       "               date  \n",
       "id                   \n",
       "2319811  01/25/2021  \n",
       "2283315  01/25/2021  \n",
       "4107730  01/25/2021  \n",
       "8494529  01/25/2021  \n",
       "7332837  01/25/2021  "
      ],
      "text/html": "<div>\n<style scoped>\n    .dataframe tbody tr th:only-of-type {\n        vertical-align: middle;\n    }\n\n    .dataframe tbody tr th {\n        vertical-align: top;\n    }\n\n    .dataframe thead th {\n        text-align: right;\n    }\n</style>\n<table border=\"1\" class=\"dataframe\">\n  <thead>\n    <tr style=\"text-align: right;\">\n      <th></th>\n      <th>headline</th>\n      <th>source</th>\n      <th>date</th>\n    </tr>\n    <tr>\n      <th>id</th>\n      <th></th>\n      <th></th>\n      <th></th>\n    </tr>\n  </thead>\n  <tbody>\n    <tr>\n      <th>2319811</th>\n      <td>Trump, allies raise pressure on Senate GOP ahe...</td>\n      <td>The Hill</td>\n      <td>01/25/2021</td>\n    </tr>\n    <tr>\n      <th>2283315</th>\n      <td>House formally sends impeachment to Senate, pu...</td>\n      <td>The Hill</td>\n      <td>01/25/2021</td>\n    </tr>\n    <tr>\n      <th>4107730</th>\n      <td>McConnell: Power-sharing deal can proceed afte...</td>\n      <td>The Hill</td>\n      <td>01/25/2021</td>\n    </tr>\n    <tr>\n      <th>8494529</th>\n      <td>State Watch</td>\n      <td>The Hill</td>\n      <td>01/25/2021</td>\n    </tr>\n    <tr>\n      <th>7332837</th>\n      <td>Portman planned exit sets off Ohio free-for-all</td>\n      <td>The Hill</td>\n      <td>01/25/2021</td>\n    </tr>\n  </tbody>\n</table>\n</div>"
     },
     "metadata": {},
     "execution_count": 19
    }
   ],
   "source": [
    "from nltk.corpus import stopwords\n",
    "from nltk.corpus import wordnet\n",
    "from nltk.stem import WordNetLemmatizer\n",
    "import re\n",
    "from datetime import date\n",
    "\n",
    "theHillHeadlines = pd.DataFrame({'id': np.random.randint(5000, 10000000, size=len(titles)), 'headline': titles}).set_index('id')#load to dataframe\n",
    "theHillHeadlines['source'] = 'The Hill'\n",
    "\n",
    "cnnHeadlines = pd.DataFrame({'id': np.random.randint(5000, 10000000, size=len(cnnTitles)), 'headline': cnnTitles}).set_index('id')\n",
    "cnnHeadlines['source'] = 'CNN'\n",
    "\n",
    "foxHeadlines = pd.DataFrame({'id': np.random.randint(5000, 10000000, size=len(foxTitles)), 'headline': foxTitles}).set_index('id')\n",
    "foxHeadlines['source'] = 'Fox'\n",
    "\n",
    "headlines = pd.concat([theHillHeadlines, foxHeadlines, cnnHeadlines], axis=0)\n",
    "headlines['date'] = date.today().strftime(\"%m/%d/%Y\")\n",
    "\n",
    "headlines.head()\n",
    "\n",
    "\n",
    "words = headlines['headline'].str.split(' ', expand=True).stack().reset_index(level=1).rename(columns={'level_1': 'position', 0: 'word'})\n",
    "\n",
    "#remove punctuation\n",
    "words['word'] = words['word'].apply(lambda x: re.sub(r'[^\\w\\s]', '', x))\n",
    "\n",
    "\n",
    "#filter stopwords out\n",
    "words['word'] = words['word'].where(lambda x: ~x.isin(stopwords.words('english')))\n",
    "\n",
    "words = words[words['word'].notna()]\n",
    "\n",
    "\n",
    "#lemmatize words to remove plurals\n",
    "def lem(x):\n",
    "    lemmatizer = WordNetLemmatizer()\n",
    "    lemmatized = lemmatizer.lemmatize(x)\n",
    "    return lemmatized\n",
    "\n",
    "words['word'] = words['word'].apply(lem)\n",
    "\n",
    "headlines.head()"
   ]
  },
  {
   "cell_type": "code",
   "execution_count": 7,
   "metadata": {},
   "outputs": [
    {
     "output_type": "stream",
     "name": "stdout",
     "text": [
      "Average sentiment of hill articles: -0.1865546218487394\n"
     ]
    },
    {
     "output_type": "execute_result",
     "data": {
      "text/plain": [
       "                                                  headline    source  \\\n",
       "id                                                                     \n",
       "1063028  Biden executive orders look like 'America Last...       Fox   \n",
       "1962390  Video shows moment NYC firefighter knocked unc...       Fox   \n",
       "3748300  This training bundle covers a huge variety of ...  The Hill   \n",
       "4639567  See what happened at GOP meeting in Arizona af...       CNN   \n",
       "1477984  Trump sets up official post-presidency office ...       Fox   \n",
       "8246187                         Testing rule for travelers       CNN   \n",
       "9064235  Get this highly effective mask designed for ex...  The Hill   \n",
       "9878223  Portman retirement sparks calls for LeBron Jam...  The Hill   \n",
       "7865386        Biden extends START arms treaty with Russia       Fox   \n",
       "6972489  Cornyn: 'Shockingly bad judgment' by Democrats...       Fox   \n",
       "8520334  Lawmaker introduces bill doubling penalty for ...  The Hill   \n",
       "9468256  Please hold Dr. Fauci responsible for COVID-19...       Fox   \n",
       "1347014                                             Senate  The Hill   \n",
       "5015758  Build up your home gym with this on-sale worko...  The Hill   \n",
       "188126                                   National Security  The Hill   \n",
       "8066298  Manchin vows that he won't vote to kill filibu...  The Hill   \n",
       "1435962  Save your daily trip to the coffee shop with t...  The Hill   \n",
       "7629944  Overnight Health Care: Biden says anyone who w...  The Hill   \n",
       "6892140  Biden admin vows to hold China 'accountable' w...  The Hill   \n",
       "1970821  Gutfeld on the media going easy on President B...       Fox   \n",
       "1912828  Reporters mostly pre-selected for Biden at 1st...       Fox   \n",
       "9153548  Hillicon Valley: Biden names acting chairs to ...  The Hill   \n",
       "3536870  Build your best resume with this AI-powered so...  The Hill   \n",
       "1909526  Nasdaq jumps, Dow sinks as Biden begins first ...  The Hill   \n",
       "922271   Jilani: Lack of social support from in-person ...  The Hill   \n",
       "\n",
       "         sentiment  \n",
       "id                  \n",
       "1063028        1.5  \n",
       "1962390       -0.6  \n",
       "3748300        1.3  \n",
       "4639567       -1.3  \n",
       "1477984        0.0  \n",
       "8246187        0.0  \n",
       "9064235        2.1  \n",
       "9878223        0.9  \n",
       "7865386        0.5  \n",
       "6972489       -2.5  \n",
       "8520334       -4.6  \n",
       "9468256       -0.1  \n",
       "1347014        0.0  \n",
       "5015758        0.0  \n",
       "188126         0.0  \n",
       "8066298       -3.7  \n",
       "1435962        0.0  \n",
       "7629944        2.4  \n",
       "6892140        0.0  \n",
       "1970821        1.9  \n",
       "1912828        0.0  \n",
       "9153548       -2.5  \n",
       "3536870        3.2  \n",
       "1909526        0.0  \n",
       "922271        -0.6  "
      ],
      "text/html": "<div>\n<style scoped>\n    .dataframe tbody tr th:only-of-type {\n        vertical-align: middle;\n    }\n\n    .dataframe tbody tr th {\n        vertical-align: top;\n    }\n\n    .dataframe thead th {\n        text-align: right;\n    }\n</style>\n<table border=\"1\" class=\"dataframe\">\n  <thead>\n    <tr style=\"text-align: right;\">\n      <th></th>\n      <th>headline</th>\n      <th>source</th>\n      <th>sentiment</th>\n    </tr>\n    <tr>\n      <th>id</th>\n      <th></th>\n      <th></th>\n      <th></th>\n    </tr>\n  </thead>\n  <tbody>\n    <tr>\n      <th>1063028</th>\n      <td>Biden executive orders look like 'America Last...</td>\n      <td>Fox</td>\n      <td>1.5</td>\n    </tr>\n    <tr>\n      <th>1962390</th>\n      <td>Video shows moment NYC firefighter knocked unc...</td>\n      <td>Fox</td>\n      <td>-0.6</td>\n    </tr>\n    <tr>\n      <th>3748300</th>\n      <td>This training bundle covers a huge variety of ...</td>\n      <td>The Hill</td>\n      <td>1.3</td>\n    </tr>\n    <tr>\n      <th>4639567</th>\n      <td>See what happened at GOP meeting in Arizona af...</td>\n      <td>CNN</td>\n      <td>-1.3</td>\n    </tr>\n    <tr>\n      <th>1477984</th>\n      <td>Trump sets up official post-presidency office ...</td>\n      <td>Fox</td>\n      <td>0.0</td>\n    </tr>\n    <tr>\n      <th>8246187</th>\n      <td>Testing rule for travelers</td>\n      <td>CNN</td>\n      <td>0.0</td>\n    </tr>\n    <tr>\n      <th>9064235</th>\n      <td>Get this highly effective mask designed for ex...</td>\n      <td>The Hill</td>\n      <td>2.1</td>\n    </tr>\n    <tr>\n      <th>9878223</th>\n      <td>Portman retirement sparks calls for LeBron Jam...</td>\n      <td>The Hill</td>\n      <td>0.9</td>\n    </tr>\n    <tr>\n      <th>7865386</th>\n      <td>Biden extends START arms treaty with Russia</td>\n      <td>Fox</td>\n      <td>0.5</td>\n    </tr>\n    <tr>\n      <th>6972489</th>\n      <td>Cornyn: 'Shockingly bad judgment' by Democrats...</td>\n      <td>Fox</td>\n      <td>-2.5</td>\n    </tr>\n    <tr>\n      <th>8520334</th>\n      <td>Lawmaker introduces bill doubling penalty for ...</td>\n      <td>The Hill</td>\n      <td>-4.6</td>\n    </tr>\n    <tr>\n      <th>9468256</th>\n      <td>Please hold Dr. Fauci responsible for COVID-19...</td>\n      <td>Fox</td>\n      <td>-0.1</td>\n    </tr>\n    <tr>\n      <th>1347014</th>\n      <td>Senate</td>\n      <td>The Hill</td>\n      <td>0.0</td>\n    </tr>\n    <tr>\n      <th>5015758</th>\n      <td>Build up your home gym with this on-sale worko...</td>\n      <td>The Hill</td>\n      <td>0.0</td>\n    </tr>\n    <tr>\n      <th>188126</th>\n      <td>National Security</td>\n      <td>The Hill</td>\n      <td>0.0</td>\n    </tr>\n    <tr>\n      <th>8066298</th>\n      <td>Manchin vows that he won't vote to kill filibu...</td>\n      <td>The Hill</td>\n      <td>-3.7</td>\n    </tr>\n    <tr>\n      <th>1435962</th>\n      <td>Save your daily trip to the coffee shop with t...</td>\n      <td>The Hill</td>\n      <td>0.0</td>\n    </tr>\n    <tr>\n      <th>7629944</th>\n      <td>Overnight Health Care: Biden says anyone who w...</td>\n      <td>The Hill</td>\n      <td>2.4</td>\n    </tr>\n    <tr>\n      <th>6892140</th>\n      <td>Biden admin vows to hold China 'accountable' w...</td>\n      <td>The Hill</td>\n      <td>0.0</td>\n    </tr>\n    <tr>\n      <th>1970821</th>\n      <td>Gutfeld on the media going easy on President B...</td>\n      <td>Fox</td>\n      <td>1.9</td>\n    </tr>\n    <tr>\n      <th>1912828</th>\n      <td>Reporters mostly pre-selected for Biden at 1st...</td>\n      <td>Fox</td>\n      <td>0.0</td>\n    </tr>\n    <tr>\n      <th>9153548</th>\n      <td>Hillicon Valley: Biden names acting chairs to ...</td>\n      <td>The Hill</td>\n      <td>-2.5</td>\n    </tr>\n    <tr>\n      <th>3536870</th>\n      <td>Build your best resume with this AI-powered so...</td>\n      <td>The Hill</td>\n      <td>3.2</td>\n    </tr>\n    <tr>\n      <th>1909526</th>\n      <td>Nasdaq jumps, Dow sinks as Biden begins first ...</td>\n      <td>The Hill</td>\n      <td>0.0</td>\n    </tr>\n    <tr>\n      <th>922271</th>\n      <td>Jilani: Lack of social support from in-person ...</td>\n      <td>The Hill</td>\n      <td>-0.6</td>\n    </tr>\n  </tbody>\n</table>\n</div>"
     },
     "metadata": {},
     "execution_count": 7
    }
   ],
   "source": [
    "#load dataframe of word -> sentiment value\n",
    "sentiment = pd.read_csv('vader_lexicon.txt', sep='\\t', index_col=0, names=['polarity', 'normalized_polarity', 'matrix'])\n",
    "sentiment = sentiment.drop(columns = sentiment.columns.difference(['polarity']))\n",
    "\n",
    "#Merge word sentiments with each word and replace nan with 0s to be neutral\n",
    "polarities = words.merge(sentiment, left_on='word', right_index=True, how='left').fillna(0.0)\n",
    "\n",
    "#Get sum of polarites for each title\n",
    "sums = polarities.groupby(level=0)['polarity'].sum()\n",
    "\n",
    "#Add polarity value back to each title\n",
    "headlines['sentiment'] = sums\n",
    "mean = headlines['sentiment'].mean()\n",
    "\n",
    "print(\"Average sentiment of hill articles: \" + str(mean))\n",
    "\n",
    "headlines.sample(n=25)\n"
   ]
  },
  {
   "cell_type": "code",
   "execution_count": 9,
   "metadata": {},
   "outputs": [
    {
     "output_type": "execute_result",
     "data": {
      "text/plain": [
       "<matplotlib.axes._subplots.AxesSubplot at 0x1940c638910>"
      ]
     },
     "metadata": {},
     "execution_count": 9
    },
    {
     "output_type": "display_data",
     "data": {
      "text/plain": "<Figure size 432x288 with 1 Axes>",
      "image/svg+xml": "<?xml version=\"1.0\" encoding=\"utf-8\" standalone=\"no\"?>\r\n<!DOCTYPE svg PUBLIC \"-//W3C//DTD SVG 1.1//EN\"\r\n  \"http://www.w3.org/Graphics/SVG/1.1/DTD/svg11.dtd\">\r\n<!-- Created with matplotlib (https://matplotlib.org/) -->\r\n<svg height=\"262.19625pt\" version=\"1.1\" viewBox=\"0 0 394.160937 262.19625\" width=\"394.160937pt\" xmlns=\"http://www.w3.org/2000/svg\" xmlns:xlink=\"http://www.w3.org/1999/xlink\">\r\n <defs>\r\n  <style type=\"text/css\">\r\n*{stroke-linecap:butt;stroke-linejoin:round;}\r\n  </style>\r\n </defs>\r\n <g id=\"figure_1\">\r\n  <g id=\"patch_1\">\r\n   <path d=\"M 0 262.19625 \r\nL 394.160937 262.19625 \r\nL 394.160937 0 \r\nL 0 0 \r\nz\r\n\" style=\"fill:none;\"/>\r\n  </g>\r\n  <g id=\"axes_1\">\r\n   <g id=\"patch_2\">\r\n    <path d=\"M 52.160938 224.64 \r\nL 386.960938 224.64 \r\nL 386.960938 7.2 \r\nL 52.160938 7.2 \r\nz\r\n\" style=\"fill:#ffffff;\"/>\r\n   </g>\r\n   <g id=\"patch_3\">\r\n    <path clip-path=\"url(#p031755fcfd)\" d=\"M 63.320937 110.903582 \r\nL 152.600937 110.903582 \r\nL 152.600937 17.083636 \r\nL 63.320937 17.083636 \r\nz\r\n\" style=\"fill:#3274a1;\"/>\r\n   </g>\r\n   <g id=\"patch_4\">\r\n    <path clip-path=\"url(#p031755fcfd)\" d=\"M 174.920937 110.903582 \r\nL 264.200937 110.903582 \r\nL 264.200937 214.756364 \r\nL 174.920937 214.756364 \r\nz\r\n\" style=\"fill:#e1812c;\"/>\r\n   </g>\r\n   <g id=\"patch_5\">\r\n    <path clip-path=\"url(#p031755fcfd)\" d=\"M 286.520938 110.903582 \r\nL 375.800938 110.903582 \r\nL 375.800938 127.657402 \r\nL 286.520938 127.657402 \r\nz\r\n\" style=\"fill:#3a923a;\"/>\r\n   </g>\r\n   <g id=\"matplotlib.axis_1\">\r\n    <g id=\"xtick_1\">\r\n     <g id=\"line2d_1\">\r\n      <defs>\r\n       <path d=\"M 0 0 \r\nL 0 3.5 \r\n\" id=\"m4aee814738\" style=\"stroke:#000000;stroke-width:0.8;\"/>\r\n      </defs>\r\n      <g>\r\n       <use style=\"stroke:#000000;stroke-width:0.8;\" x=\"107.960938\" xlink:href=\"#m4aee814738\" y=\"224.64\"/>\r\n      </g>\r\n     </g>\r\n     <g id=\"text_1\">\r\n      <!-- CNN -->\r\n      <defs>\r\n       <path d=\"M 64.40625 67.28125 \r\nL 64.40625 56.890625 \r\nQ 59.421875 61.53125 53.78125 63.8125 \r\nQ 48.140625 66.109375 41.796875 66.109375 \r\nQ 29.296875 66.109375 22.65625 58.46875 \r\nQ 16.015625 50.828125 16.015625 36.375 \r\nQ 16.015625 21.96875 22.65625 14.328125 \r\nQ 29.296875 6.6875 41.796875 6.6875 \r\nQ 48.140625 6.6875 53.78125 8.984375 \r\nQ 59.421875 11.28125 64.40625 15.921875 \r\nL 64.40625 5.609375 \r\nQ 59.234375 2.09375 53.4375 0.328125 \r\nQ 47.65625 -1.421875 41.21875 -1.421875 \r\nQ 24.65625 -1.421875 15.125 8.703125 \r\nQ 5.609375 18.84375 5.609375 36.375 \r\nQ 5.609375 53.953125 15.125 64.078125 \r\nQ 24.65625 74.21875 41.21875 74.21875 \r\nQ 47.75 74.21875 53.53125 72.484375 \r\nQ 59.328125 70.75 64.40625 67.28125 \r\nz\r\n\" id=\"DejaVuSans-67\"/>\r\n       <path d=\"M 9.8125 72.90625 \r\nL 23.09375 72.90625 \r\nL 55.421875 11.921875 \r\nL 55.421875 72.90625 \r\nL 64.984375 72.90625 \r\nL 64.984375 0 \r\nL 51.703125 0 \r\nL 19.390625 60.984375 \r\nL 19.390625 0 \r\nL 9.8125 0 \r\nz\r\n\" id=\"DejaVuSans-78\"/>\r\n      </defs>\r\n      <g transform=\"translate(96.988281 239.238437)scale(0.1 -0.1)\">\r\n       <use xlink:href=\"#DejaVuSans-67\"/>\r\n       <use x=\"69.824219\" xlink:href=\"#DejaVuSans-78\"/>\r\n       <use x=\"144.628906\" xlink:href=\"#DejaVuSans-78\"/>\r\n      </g>\r\n     </g>\r\n    </g>\r\n    <g id=\"xtick_2\">\r\n     <g id=\"line2d_2\">\r\n      <g>\r\n       <use style=\"stroke:#000000;stroke-width:0.8;\" x=\"219.560937\" xlink:href=\"#m4aee814738\" y=\"224.64\"/>\r\n      </g>\r\n     </g>\r\n     <g id=\"text_2\">\r\n      <!-- Fox -->\r\n      <defs>\r\n       <path d=\"M 9.8125 72.90625 \r\nL 51.703125 72.90625 \r\nL 51.703125 64.59375 \r\nL 19.671875 64.59375 \r\nL 19.671875 43.109375 \r\nL 48.578125 43.109375 \r\nL 48.578125 34.8125 \r\nL 19.671875 34.8125 \r\nL 19.671875 0 \r\nL 9.8125 0 \r\nz\r\n\" id=\"DejaVuSans-70\"/>\r\n       <path d=\"M 30.609375 48.390625 \r\nQ 23.390625 48.390625 19.1875 42.75 \r\nQ 14.984375 37.109375 14.984375 27.296875 \r\nQ 14.984375 17.484375 19.15625 11.84375 \r\nQ 23.34375 6.203125 30.609375 6.203125 \r\nQ 37.796875 6.203125 41.984375 11.859375 \r\nQ 46.1875 17.53125 46.1875 27.296875 \r\nQ 46.1875 37.015625 41.984375 42.703125 \r\nQ 37.796875 48.390625 30.609375 48.390625 \r\nz\r\nM 30.609375 56 \r\nQ 42.328125 56 49.015625 48.375 \r\nQ 55.71875 40.765625 55.71875 27.296875 \r\nQ 55.71875 13.875 49.015625 6.21875 \r\nQ 42.328125 -1.421875 30.609375 -1.421875 \r\nQ 18.84375 -1.421875 12.171875 6.21875 \r\nQ 5.515625 13.875 5.515625 27.296875 \r\nQ 5.515625 40.765625 12.171875 48.375 \r\nQ 18.84375 56 30.609375 56 \r\nz\r\n\" id=\"DejaVuSans-111\"/>\r\n       <path d=\"M 54.890625 54.6875 \r\nL 35.109375 28.078125 \r\nL 55.90625 0 \r\nL 45.3125 0 \r\nL 29.390625 21.484375 \r\nL 13.484375 0 \r\nL 2.875 0 \r\nL 24.125 28.609375 \r\nL 4.6875 54.6875 \r\nL 15.28125 54.6875 \r\nL 29.78125 35.203125 \r\nL 44.28125 54.6875 \r\nz\r\n\" id=\"DejaVuSans-120\"/>\r\n      </defs>\r\n      <g transform=\"translate(211.003906 239.238437)scale(0.1 -0.1)\">\r\n       <use xlink:href=\"#DejaVuSans-70\"/>\r\n       <use x=\"53.894531\" xlink:href=\"#DejaVuSans-111\"/>\r\n       <use x=\"111.951172\" xlink:href=\"#DejaVuSans-120\"/>\r\n      </g>\r\n     </g>\r\n    </g>\r\n    <g id=\"xtick_3\">\r\n     <g id=\"line2d_3\">\r\n      <g>\r\n       <use style=\"stroke:#000000;stroke-width:0.8;\" x=\"331.160937\" xlink:href=\"#m4aee814738\" y=\"224.64\"/>\r\n      </g>\r\n     </g>\r\n     <g id=\"text_3\">\r\n      <!-- The Hill -->\r\n      <defs>\r\n       <path d=\"M -0.296875 72.90625 \r\nL 61.375 72.90625 \r\nL 61.375 64.59375 \r\nL 35.5 64.59375 \r\nL 35.5 0 \r\nL 25.59375 0 \r\nL 25.59375 64.59375 \r\nL -0.296875 64.59375 \r\nz\r\n\" id=\"DejaVuSans-84\"/>\r\n       <path d=\"M 54.890625 33.015625 \r\nL 54.890625 0 \r\nL 45.90625 0 \r\nL 45.90625 32.71875 \r\nQ 45.90625 40.484375 42.875 44.328125 \r\nQ 39.84375 48.1875 33.796875 48.1875 \r\nQ 26.515625 48.1875 22.3125 43.546875 \r\nQ 18.109375 38.921875 18.109375 30.90625 \r\nL 18.109375 0 \r\nL 9.078125 0 \r\nL 9.078125 75.984375 \r\nL 18.109375 75.984375 \r\nL 18.109375 46.1875 \r\nQ 21.34375 51.125 25.703125 53.5625 \r\nQ 30.078125 56 35.796875 56 \r\nQ 45.21875 56 50.046875 50.171875 \r\nQ 54.890625 44.34375 54.890625 33.015625 \r\nz\r\n\" id=\"DejaVuSans-104\"/>\r\n       <path d=\"M 56.203125 29.59375 \r\nL 56.203125 25.203125 \r\nL 14.890625 25.203125 \r\nQ 15.484375 15.921875 20.484375 11.0625 \r\nQ 25.484375 6.203125 34.421875 6.203125 \r\nQ 39.59375 6.203125 44.453125 7.46875 \r\nQ 49.3125 8.734375 54.109375 11.28125 \r\nL 54.109375 2.78125 \r\nQ 49.265625 0.734375 44.1875 -0.34375 \r\nQ 39.109375 -1.421875 33.890625 -1.421875 \r\nQ 20.796875 -1.421875 13.15625 6.1875 \r\nQ 5.515625 13.8125 5.515625 26.8125 \r\nQ 5.515625 40.234375 12.765625 48.109375 \r\nQ 20.015625 56 32.328125 56 \r\nQ 43.359375 56 49.78125 48.890625 \r\nQ 56.203125 41.796875 56.203125 29.59375 \r\nz\r\nM 47.21875 32.234375 \r\nQ 47.125 39.59375 43.09375 43.984375 \r\nQ 39.0625 48.390625 32.421875 48.390625 \r\nQ 24.90625 48.390625 20.390625 44.140625 \r\nQ 15.875 39.890625 15.1875 32.171875 \r\nz\r\n\" id=\"DejaVuSans-101\"/>\r\n       <path id=\"DejaVuSans-32\"/>\r\n       <path d=\"M 9.8125 72.90625 \r\nL 19.671875 72.90625 \r\nL 19.671875 43.015625 \r\nL 55.515625 43.015625 \r\nL 55.515625 72.90625 \r\nL 65.375 72.90625 \r\nL 65.375 0 \r\nL 55.515625 0 \r\nL 55.515625 34.71875 \r\nL 19.671875 34.71875 \r\nL 19.671875 0 \r\nL 9.8125 0 \r\nz\r\n\" id=\"DejaVuSans-72\"/>\r\n       <path d=\"M 9.421875 54.6875 \r\nL 18.40625 54.6875 \r\nL 18.40625 0 \r\nL 9.421875 0 \r\nz\r\nM 9.421875 75.984375 \r\nL 18.40625 75.984375 \r\nL 18.40625 64.59375 \r\nL 9.421875 64.59375 \r\nz\r\n\" id=\"DejaVuSans-105\"/>\r\n       <path d=\"M 9.421875 75.984375 \r\nL 18.40625 75.984375 \r\nL 18.40625 0 \r\nL 9.421875 0 \r\nz\r\n\" id=\"DejaVuSans-108\"/>\r\n      </defs>\r\n      <g transform=\"translate(312.345312 239.238437)scale(0.1 -0.1)\">\r\n       <use xlink:href=\"#DejaVuSans-84\"/>\r\n       <use x=\"61.083984\" xlink:href=\"#DejaVuSans-104\"/>\r\n       <use x=\"124.462891\" xlink:href=\"#DejaVuSans-101\"/>\r\n       <use x=\"185.986328\" xlink:href=\"#DejaVuSans-32\"/>\r\n       <use x=\"217.773438\" xlink:href=\"#DejaVuSans-72\"/>\r\n       <use x=\"292.96875\" xlink:href=\"#DejaVuSans-105\"/>\r\n       <use x=\"320.751953\" xlink:href=\"#DejaVuSans-108\"/>\r\n       <use x=\"348.535156\" xlink:href=\"#DejaVuSans-108\"/>\r\n      </g>\r\n     </g>\r\n    </g>\r\n    <g id=\"text_4\">\r\n     <!-- source -->\r\n     <defs>\r\n      <path d=\"M 44.28125 53.078125 \r\nL 44.28125 44.578125 \r\nQ 40.484375 46.53125 36.375 47.5 \r\nQ 32.28125 48.484375 27.875 48.484375 \r\nQ 21.1875 48.484375 17.84375 46.4375 \r\nQ 14.5 44.390625 14.5 40.28125 \r\nQ 14.5 37.15625 16.890625 35.375 \r\nQ 19.28125 33.59375 26.515625 31.984375 \r\nL 29.59375 31.296875 \r\nQ 39.15625 29.25 43.1875 25.515625 \r\nQ 47.21875 21.78125 47.21875 15.09375 \r\nQ 47.21875 7.46875 41.1875 3.015625 \r\nQ 35.15625 -1.421875 24.609375 -1.421875 \r\nQ 20.21875 -1.421875 15.453125 -0.5625 \r\nQ 10.6875 0.296875 5.421875 2 \r\nL 5.421875 11.28125 \r\nQ 10.40625 8.6875 15.234375 7.390625 \r\nQ 20.0625 6.109375 24.8125 6.109375 \r\nQ 31.15625 6.109375 34.5625 8.28125 \r\nQ 37.984375 10.453125 37.984375 14.40625 \r\nQ 37.984375 18.0625 35.515625 20.015625 \r\nQ 33.0625 21.96875 24.703125 23.78125 \r\nL 21.578125 24.515625 \r\nQ 13.234375 26.265625 9.515625 29.90625 \r\nQ 5.8125 33.546875 5.8125 39.890625 \r\nQ 5.8125 47.609375 11.28125 51.796875 \r\nQ 16.75 56 26.8125 56 \r\nQ 31.78125 56 36.171875 55.265625 \r\nQ 40.578125 54.546875 44.28125 53.078125 \r\nz\r\n\" id=\"DejaVuSans-115\"/>\r\n      <path d=\"M 8.5 21.578125 \r\nL 8.5 54.6875 \r\nL 17.484375 54.6875 \r\nL 17.484375 21.921875 \r\nQ 17.484375 14.15625 20.5 10.265625 \r\nQ 23.53125 6.390625 29.59375 6.390625 \r\nQ 36.859375 6.390625 41.078125 11.03125 \r\nQ 45.3125 15.671875 45.3125 23.6875 \r\nL 45.3125 54.6875 \r\nL 54.296875 54.6875 \r\nL 54.296875 0 \r\nL 45.3125 0 \r\nL 45.3125 8.40625 \r\nQ 42.046875 3.421875 37.71875 1 \r\nQ 33.40625 -1.421875 27.6875 -1.421875 \r\nQ 18.265625 -1.421875 13.375 4.4375 \r\nQ 8.5 10.296875 8.5 21.578125 \r\nz\r\nM 31.109375 56 \r\nz\r\n\" id=\"DejaVuSans-117\"/>\r\n      <path d=\"M 41.109375 46.296875 \r\nQ 39.59375 47.171875 37.8125 47.578125 \r\nQ 36.03125 48 33.890625 48 \r\nQ 26.265625 48 22.1875 43.046875 \r\nQ 18.109375 38.09375 18.109375 28.8125 \r\nL 18.109375 0 \r\nL 9.078125 0 \r\nL 9.078125 54.6875 \r\nL 18.109375 54.6875 \r\nL 18.109375 46.1875 \r\nQ 20.953125 51.171875 25.484375 53.578125 \r\nQ 30.03125 56 36.53125 56 \r\nQ 37.453125 56 38.578125 55.875 \r\nQ 39.703125 55.765625 41.0625 55.515625 \r\nz\r\n\" id=\"DejaVuSans-114\"/>\r\n      <path d=\"M 48.78125 52.59375 \r\nL 48.78125 44.1875 \r\nQ 44.96875 46.296875 41.140625 47.34375 \r\nQ 37.3125 48.390625 33.40625 48.390625 \r\nQ 24.65625 48.390625 19.8125 42.84375 \r\nQ 14.984375 37.3125 14.984375 27.296875 \r\nQ 14.984375 17.28125 19.8125 11.734375 \r\nQ 24.65625 6.203125 33.40625 6.203125 \r\nQ 37.3125 6.203125 41.140625 7.25 \r\nQ 44.96875 8.296875 48.78125 10.40625 \r\nL 48.78125 2.09375 \r\nQ 45.015625 0.34375 40.984375 -0.53125 \r\nQ 36.96875 -1.421875 32.421875 -1.421875 \r\nQ 20.0625 -1.421875 12.78125 6.34375 \r\nQ 5.515625 14.109375 5.515625 27.296875 \r\nQ 5.515625 40.671875 12.859375 48.328125 \r\nQ 20.21875 56 33.015625 56 \r\nQ 37.15625 56 41.109375 55.140625 \r\nQ 45.0625 54.296875 48.78125 52.59375 \r\nz\r\n\" id=\"DejaVuSans-99\"/>\r\n     </defs>\r\n     <g transform=\"translate(202.959375 252.916562)scale(0.1 -0.1)\">\r\n      <use xlink:href=\"#DejaVuSans-115\"/>\r\n      <use x=\"52.099609\" xlink:href=\"#DejaVuSans-111\"/>\r\n      <use x=\"113.28125\" xlink:href=\"#DejaVuSans-117\"/>\r\n      <use x=\"176.660156\" xlink:href=\"#DejaVuSans-114\"/>\r\n      <use x=\"215.523438\" xlink:href=\"#DejaVuSans-99\"/>\r\n      <use x=\"270.503906\" xlink:href=\"#DejaVuSans-101\"/>\r\n     </g>\r\n    </g>\r\n   </g>\r\n   <g id=\"matplotlib.axis_2\">\r\n    <g id=\"ytick_1\">\r\n     <g id=\"line2d_4\">\r\n      <defs>\r\n       <path d=\"M 0 0 \r\nL -3.5 0 \r\n\" id=\"m3e92076b56\" style=\"stroke:#000000;stroke-width:0.8;\"/>\r\n      </defs>\r\n      <g>\r\n       <use style=\"stroke:#000000;stroke-width:0.8;\" x=\"52.160938\" xlink:href=\"#m3e92076b56\" y=\"216.354099\"/>\r\n      </g>\r\n     </g>\r\n     <g id=\"text_5\">\r\n      <!-- −0.4 -->\r\n      <defs>\r\n       <path d=\"M 10.59375 35.5 \r\nL 73.1875 35.5 \r\nL 73.1875 27.203125 \r\nL 10.59375 27.203125 \r\nz\r\n\" id=\"DejaVuSans-8722\"/>\r\n       <path d=\"M 31.78125 66.40625 \r\nQ 24.171875 66.40625 20.328125 58.90625 \r\nQ 16.5 51.421875 16.5 36.375 \r\nQ 16.5 21.390625 20.328125 13.890625 \r\nQ 24.171875 6.390625 31.78125 6.390625 \r\nQ 39.453125 6.390625 43.28125 13.890625 \r\nQ 47.125 21.390625 47.125 36.375 \r\nQ 47.125 51.421875 43.28125 58.90625 \r\nQ 39.453125 66.40625 31.78125 66.40625 \r\nz\r\nM 31.78125 74.21875 \r\nQ 44.046875 74.21875 50.515625 64.515625 \r\nQ 56.984375 54.828125 56.984375 36.375 \r\nQ 56.984375 17.96875 50.515625 8.265625 \r\nQ 44.046875 -1.421875 31.78125 -1.421875 \r\nQ 19.53125 -1.421875 13.0625 8.265625 \r\nQ 6.59375 17.96875 6.59375 36.375 \r\nQ 6.59375 54.828125 13.0625 64.515625 \r\nQ 19.53125 74.21875 31.78125 74.21875 \r\nz\r\n\" id=\"DejaVuSans-48\"/>\r\n       <path d=\"M 10.6875 12.40625 \r\nL 21 12.40625 \r\nL 21 0 \r\nL 10.6875 0 \r\nz\r\n\" id=\"DejaVuSans-46\"/>\r\n       <path d=\"M 37.796875 64.3125 \r\nL 12.890625 25.390625 \r\nL 37.796875 25.390625 \r\nz\r\nM 35.203125 72.90625 \r\nL 47.609375 72.90625 \r\nL 47.609375 25.390625 \r\nL 58.015625 25.390625 \r\nL 58.015625 17.1875 \r\nL 47.609375 17.1875 \r\nL 47.609375 0 \r\nL 37.796875 0 \r\nL 37.796875 17.1875 \r\nL 4.890625 17.1875 \r\nL 4.890625 26.703125 \r\nz\r\n\" id=\"DejaVuSans-52\"/>\r\n      </defs>\r\n      <g transform=\"translate(20.878125 220.153317)scale(0.1 -0.1)\">\r\n       <use xlink:href=\"#DejaVuSans-8722\"/>\r\n       <use x=\"83.789062\" xlink:href=\"#DejaVuSans-48\"/>\r\n       <use x=\"147.412109\" xlink:href=\"#DejaVuSans-46\"/>\r\n       <use x=\"179.199219\" xlink:href=\"#DejaVuSans-52\"/>\r\n      </g>\r\n     </g>\r\n    </g>\r\n    <g id=\"ytick_2\">\r\n     <g id=\"line2d_5\">\r\n      <g>\r\n       <use style=\"stroke:#000000;stroke-width:0.8;\" x=\"52.160938\" xlink:href=\"#m3e92076b56\" y=\"189.991469\"/>\r\n      </g>\r\n     </g>\r\n     <g id=\"text_6\">\r\n      <!-- −0.3 -->\r\n      <defs>\r\n       <path d=\"M 40.578125 39.3125 \r\nQ 47.65625 37.796875 51.625 33 \r\nQ 55.609375 28.21875 55.609375 21.1875 \r\nQ 55.609375 10.40625 48.1875 4.484375 \r\nQ 40.765625 -1.421875 27.09375 -1.421875 \r\nQ 22.515625 -1.421875 17.65625 -0.515625 \r\nQ 12.796875 0.390625 7.625 2.203125 \r\nL 7.625 11.71875 \r\nQ 11.71875 9.328125 16.59375 8.109375 \r\nQ 21.484375 6.890625 26.8125 6.890625 \r\nQ 36.078125 6.890625 40.9375 10.546875 \r\nQ 45.796875 14.203125 45.796875 21.1875 \r\nQ 45.796875 27.640625 41.28125 31.265625 \r\nQ 36.765625 34.90625 28.71875 34.90625 \r\nL 20.21875 34.90625 \r\nL 20.21875 43.015625 \r\nL 29.109375 43.015625 \r\nQ 36.375 43.015625 40.234375 45.921875 \r\nQ 44.09375 48.828125 44.09375 54.296875 \r\nQ 44.09375 59.90625 40.109375 62.90625 \r\nQ 36.140625 65.921875 28.71875 65.921875 \r\nQ 24.65625 65.921875 20.015625 65.03125 \r\nQ 15.375 64.15625 9.8125 62.3125 \r\nL 9.8125 71.09375 \r\nQ 15.4375 72.65625 20.34375 73.4375 \r\nQ 25.25 74.21875 29.59375 74.21875 \r\nQ 40.828125 74.21875 47.359375 69.109375 \r\nQ 53.90625 64.015625 53.90625 55.328125 \r\nQ 53.90625 49.265625 50.4375 45.09375 \r\nQ 46.96875 40.921875 40.578125 39.3125 \r\nz\r\n\" id=\"DejaVuSans-51\"/>\r\n      </defs>\r\n      <g transform=\"translate(20.878125 193.790688)scale(0.1 -0.1)\">\r\n       <use xlink:href=\"#DejaVuSans-8722\"/>\r\n       <use x=\"83.789062\" xlink:href=\"#DejaVuSans-48\"/>\r\n       <use x=\"147.412109\" xlink:href=\"#DejaVuSans-46\"/>\r\n       <use x=\"179.199219\" xlink:href=\"#DejaVuSans-51\"/>\r\n      </g>\r\n     </g>\r\n    </g>\r\n    <g id=\"ytick_3\">\r\n     <g id=\"line2d_6\">\r\n      <g>\r\n       <use style=\"stroke:#000000;stroke-width:0.8;\" x=\"52.160938\" xlink:href=\"#m3e92076b56\" y=\"163.62884\"/>\r\n      </g>\r\n     </g>\r\n     <g id=\"text_7\">\r\n      <!-- −0.2 -->\r\n      <defs>\r\n       <path d=\"M 19.1875 8.296875 \r\nL 53.609375 8.296875 \r\nL 53.609375 0 \r\nL 7.328125 0 \r\nL 7.328125 8.296875 \r\nQ 12.9375 14.109375 22.625 23.890625 \r\nQ 32.328125 33.6875 34.8125 36.53125 \r\nQ 39.546875 41.84375 41.421875 45.53125 \r\nQ 43.3125 49.21875 43.3125 52.78125 \r\nQ 43.3125 58.59375 39.234375 62.25 \r\nQ 35.15625 65.921875 28.609375 65.921875 \r\nQ 23.96875 65.921875 18.8125 64.3125 \r\nQ 13.671875 62.703125 7.8125 59.421875 \r\nL 7.8125 69.390625 \r\nQ 13.765625 71.78125 18.9375 73 \r\nQ 24.125 74.21875 28.421875 74.21875 \r\nQ 39.75 74.21875 46.484375 68.546875 \r\nQ 53.21875 62.890625 53.21875 53.421875 \r\nQ 53.21875 48.921875 51.53125 44.890625 \r\nQ 49.859375 40.875 45.40625 35.40625 \r\nQ 44.1875 33.984375 37.640625 27.21875 \r\nQ 31.109375 20.453125 19.1875 8.296875 \r\nz\r\n\" id=\"DejaVuSans-50\"/>\r\n      </defs>\r\n      <g transform=\"translate(20.878125 167.428059)scale(0.1 -0.1)\">\r\n       <use xlink:href=\"#DejaVuSans-8722\"/>\r\n       <use x=\"83.789062\" xlink:href=\"#DejaVuSans-48\"/>\r\n       <use x=\"147.412109\" xlink:href=\"#DejaVuSans-46\"/>\r\n       <use x=\"179.199219\" xlink:href=\"#DejaVuSans-50\"/>\r\n      </g>\r\n     </g>\r\n    </g>\r\n    <g id=\"ytick_4\">\r\n     <g id=\"line2d_7\">\r\n      <g>\r\n       <use style=\"stroke:#000000;stroke-width:0.8;\" x=\"52.160938\" xlink:href=\"#m3e92076b56\" y=\"137.266211\"/>\r\n      </g>\r\n     </g>\r\n     <g id=\"text_8\">\r\n      <!-- −0.1 -->\r\n      <defs>\r\n       <path d=\"M 12.40625 8.296875 \r\nL 28.515625 8.296875 \r\nL 28.515625 63.921875 \r\nL 10.984375 60.40625 \r\nL 10.984375 69.390625 \r\nL 28.421875 72.90625 \r\nL 38.28125 72.90625 \r\nL 38.28125 8.296875 \r\nL 54.390625 8.296875 \r\nL 54.390625 0 \r\nL 12.40625 0 \r\nz\r\n\" id=\"DejaVuSans-49\"/>\r\n      </defs>\r\n      <g transform=\"translate(20.878125 141.06543)scale(0.1 -0.1)\">\r\n       <use xlink:href=\"#DejaVuSans-8722\"/>\r\n       <use x=\"83.789062\" xlink:href=\"#DejaVuSans-48\"/>\r\n       <use x=\"147.412109\" xlink:href=\"#DejaVuSans-46\"/>\r\n       <use x=\"179.199219\" xlink:href=\"#DejaVuSans-49\"/>\r\n      </g>\r\n     </g>\r\n    </g>\r\n    <g id=\"ytick_5\">\r\n     <g id=\"line2d_8\">\r\n      <g>\r\n       <use style=\"stroke:#000000;stroke-width:0.8;\" x=\"52.160938\" xlink:href=\"#m3e92076b56\" y=\"110.903582\"/>\r\n      </g>\r\n     </g>\r\n     <g id=\"text_9\">\r\n      <!-- 0.0 -->\r\n      <g transform=\"translate(29.257812 114.7028)scale(0.1 -0.1)\">\r\n       <use xlink:href=\"#DejaVuSans-48\"/>\r\n       <use x=\"63.623047\" xlink:href=\"#DejaVuSans-46\"/>\r\n       <use x=\"95.410156\" xlink:href=\"#DejaVuSans-48\"/>\r\n      </g>\r\n     </g>\r\n    </g>\r\n    <g id=\"ytick_6\">\r\n     <g id=\"line2d_9\">\r\n      <g>\r\n       <use style=\"stroke:#000000;stroke-width:0.8;\" x=\"52.160938\" xlink:href=\"#m3e92076b56\" y=\"84.540952\"/>\r\n      </g>\r\n     </g>\r\n     <g id=\"text_10\">\r\n      <!-- 0.1 -->\r\n      <g transform=\"translate(29.257812 88.340171)scale(0.1 -0.1)\">\r\n       <use xlink:href=\"#DejaVuSans-48\"/>\r\n       <use x=\"63.623047\" xlink:href=\"#DejaVuSans-46\"/>\r\n       <use x=\"95.410156\" xlink:href=\"#DejaVuSans-49\"/>\r\n      </g>\r\n     </g>\r\n    </g>\r\n    <g id=\"ytick_7\">\r\n     <g id=\"line2d_10\">\r\n      <g>\r\n       <use style=\"stroke:#000000;stroke-width:0.8;\" x=\"52.160938\" xlink:href=\"#m3e92076b56\" y=\"58.178323\"/>\r\n      </g>\r\n     </g>\r\n     <g id=\"text_11\">\r\n      <!-- 0.2 -->\r\n      <g transform=\"translate(29.257812 61.977542)scale(0.1 -0.1)\">\r\n       <use xlink:href=\"#DejaVuSans-48\"/>\r\n       <use x=\"63.623047\" xlink:href=\"#DejaVuSans-46\"/>\r\n       <use x=\"95.410156\" xlink:href=\"#DejaVuSans-50\"/>\r\n      </g>\r\n     </g>\r\n    </g>\r\n    <g id=\"ytick_8\">\r\n     <g id=\"line2d_11\">\r\n      <g>\r\n       <use style=\"stroke:#000000;stroke-width:0.8;\" x=\"52.160938\" xlink:href=\"#m3e92076b56\" y=\"31.815694\"/>\r\n      </g>\r\n     </g>\r\n     <g id=\"text_12\">\r\n      <!-- 0.3 -->\r\n      <g transform=\"translate(29.257812 35.614913)scale(0.1 -0.1)\">\r\n       <use xlink:href=\"#DejaVuSans-48\"/>\r\n       <use x=\"63.623047\" xlink:href=\"#DejaVuSans-46\"/>\r\n       <use x=\"95.410156\" xlink:href=\"#DejaVuSans-51\"/>\r\n      </g>\r\n     </g>\r\n    </g>\r\n    <g id=\"text_13\">\r\n     <!-- sentiment -->\r\n     <defs>\r\n      <path d=\"M 54.890625 33.015625 \r\nL 54.890625 0 \r\nL 45.90625 0 \r\nL 45.90625 32.71875 \r\nQ 45.90625 40.484375 42.875 44.328125 \r\nQ 39.84375 48.1875 33.796875 48.1875 \r\nQ 26.515625 48.1875 22.3125 43.546875 \r\nQ 18.109375 38.921875 18.109375 30.90625 \r\nL 18.109375 0 \r\nL 9.078125 0 \r\nL 9.078125 54.6875 \r\nL 18.109375 54.6875 \r\nL 18.109375 46.1875 \r\nQ 21.34375 51.125 25.703125 53.5625 \r\nQ 30.078125 56 35.796875 56 \r\nQ 45.21875 56 50.046875 50.171875 \r\nQ 54.890625 44.34375 54.890625 33.015625 \r\nz\r\n\" id=\"DejaVuSans-110\"/>\r\n      <path d=\"M 18.3125 70.21875 \r\nL 18.3125 54.6875 \r\nL 36.8125 54.6875 \r\nL 36.8125 47.703125 \r\nL 18.3125 47.703125 \r\nL 18.3125 18.015625 \r\nQ 18.3125 11.328125 20.140625 9.421875 \r\nQ 21.96875 7.515625 27.59375 7.515625 \r\nL 36.8125 7.515625 \r\nL 36.8125 0 \r\nL 27.59375 0 \r\nQ 17.1875 0 13.234375 3.875 \r\nQ 9.28125 7.765625 9.28125 18.015625 \r\nL 9.28125 47.703125 \r\nL 2.6875 47.703125 \r\nL 2.6875 54.6875 \r\nL 9.28125 54.6875 \r\nL 9.28125 70.21875 \r\nz\r\n\" id=\"DejaVuSans-116\"/>\r\n      <path d=\"M 52 44.1875 \r\nQ 55.375 50.25 60.0625 53.125 \r\nQ 64.75 56 71.09375 56 \r\nQ 79.640625 56 84.28125 50.015625 \r\nQ 88.921875 44.046875 88.921875 33.015625 \r\nL 88.921875 0 \r\nL 79.890625 0 \r\nL 79.890625 32.71875 \r\nQ 79.890625 40.578125 77.09375 44.375 \r\nQ 74.3125 48.1875 68.609375 48.1875 \r\nQ 61.625 48.1875 57.5625 43.546875 \r\nQ 53.515625 38.921875 53.515625 30.90625 \r\nL 53.515625 0 \r\nL 44.484375 0 \r\nL 44.484375 32.71875 \r\nQ 44.484375 40.625 41.703125 44.40625 \r\nQ 38.921875 48.1875 33.109375 48.1875 \r\nQ 26.21875 48.1875 22.15625 43.53125 \r\nQ 18.109375 38.875 18.109375 30.90625 \r\nL 18.109375 0 \r\nL 9.078125 0 \r\nL 9.078125 54.6875 \r\nL 18.109375 54.6875 \r\nL 18.109375 46.1875 \r\nQ 21.1875 51.21875 25.484375 53.609375 \r\nQ 29.78125 56 35.6875 56 \r\nQ 41.65625 56 45.828125 52.96875 \r\nQ 50 49.953125 52 44.1875 \r\nz\r\n\" id=\"DejaVuSans-109\"/>\r\n     </defs>\r\n     <g transform=\"translate(14.798437 141.195)rotate(-90)scale(0.1 -0.1)\">\r\n      <use xlink:href=\"#DejaVuSans-115\"/>\r\n      <use x=\"52.099609\" xlink:href=\"#DejaVuSans-101\"/>\r\n      <use x=\"113.623047\" xlink:href=\"#DejaVuSans-110\"/>\r\n      <use x=\"177.001953\" xlink:href=\"#DejaVuSans-116\"/>\r\n      <use x=\"216.210938\" xlink:href=\"#DejaVuSans-105\"/>\r\n      <use x=\"243.994141\" xlink:href=\"#DejaVuSans-109\"/>\r\n      <use x=\"341.40625\" xlink:href=\"#DejaVuSans-101\"/>\r\n      <use x=\"402.929688\" xlink:href=\"#DejaVuSans-110\"/>\r\n      <use x=\"466.308594\" xlink:href=\"#DejaVuSans-116\"/>\r\n     </g>\r\n    </g>\r\n   </g>\r\n   <g id=\"line2d_12\">\r\n    <path clip-path=\"url(#p031755fcfd)\" style=\"fill:none;stroke:#424242;stroke-linecap:square;stroke-width:2.7;\"/>\r\n   </g>\r\n   <g id=\"line2d_13\">\r\n    <path clip-path=\"url(#p031755fcfd)\" style=\"fill:none;stroke:#424242;stroke-linecap:square;stroke-width:2.7;\"/>\r\n   </g>\r\n   <g id=\"line2d_14\">\r\n    <path clip-path=\"url(#p031755fcfd)\" style=\"fill:none;stroke:#424242;stroke-linecap:square;stroke-width:2.7;\"/>\r\n   </g>\r\n   <g id=\"patch_6\">\r\n    <path d=\"M 52.160938 224.64 \r\nL 52.160938 7.2 \r\n\" style=\"fill:none;stroke:#000000;stroke-linecap:square;stroke-linejoin:miter;stroke-width:0.8;\"/>\r\n   </g>\r\n   <g id=\"patch_7\">\r\n    <path d=\"M 386.960938 224.64 \r\nL 386.960938 7.2 \r\n\" style=\"fill:none;stroke:#000000;stroke-linecap:square;stroke-linejoin:miter;stroke-width:0.8;\"/>\r\n   </g>\r\n   <g id=\"patch_8\">\r\n    <path d=\"M 52.160938 224.64 \r\nL 386.960938 224.64 \r\n\" style=\"fill:none;stroke:#000000;stroke-linecap:square;stroke-linejoin:miter;stroke-width:0.8;\"/>\r\n   </g>\r\n   <g id=\"patch_9\">\r\n    <path d=\"M 52.160938 7.2 \r\nL 386.960938 7.2 \r\n\" style=\"fill:none;stroke:#000000;stroke-linecap:square;stroke-linejoin:miter;stroke-width:0.8;\"/>\r\n   </g>\r\n  </g>\r\n </g>\r\n <defs>\r\n  <clipPath id=\"p031755fcfd\">\r\n   <rect height=\"217.44\" width=\"334.8\" x=\"52.160938\" y=\"7.2\"/>\r\n  </clipPath>\r\n </defs>\r\n</svg>\r\n",
      "image/png": "[encoded data removed]"
     },
     "metadata": {
      "needs_background": "light"
     }
    }
   ],
   "source": [
    "import seaborn as sns\n",
    "\n",
    "meanSentiments = headlines.groupby('source').mean()\n",
    "\n",
    "meanSentiments['sentiment']\n",
    "\n",
    "sns.barplot(x=meanSentiments['sentiment'].index, y=meanSentiments['sentiment'])"
   ]
  },
  {
   "cell_type": "code",
   "execution_count": 11,
   "metadata": {},
   "outputs": [
    {
     "output_type": "execute_result",
     "data": {
      "text/plain": [
       "                                                  headline    source  \\\n",
       "id                                                                     \n",
       "6185434  The best SAD lamps to help literally brighten ...       CNN   \n",
       "2635730  50 Valentine's Day gifts your loved ones will ...       CNN   \n",
       "4943215  NFL to allow 22,000 fans at Super Bowl LV, inc...       CNN   \n",
       "3379385  Taibbi: Declining trust in media result of shi...  The Hill   \n",
       "9185002  White House holds call with senators to raise ...       CNN   \n",
       "\n",
       "         sentiment  \n",
       "id                  \n",
       "6185434        6.8  \n",
       "2635730        4.8  \n",
       "4943215        4.4  \n",
       "3379385        4.1  \n",
       "9185002        3.8  "
      ],
      "text/html": "<div>\n<style scoped>\n    .dataframe tbody tr th:only-of-type {\n        vertical-align: middle;\n    }\n\n    .dataframe tbody tr th {\n        vertical-align: top;\n    }\n\n    .dataframe thead th {\n        text-align: right;\n    }\n</style>\n<table border=\"1\" class=\"dataframe\">\n  <thead>\n    <tr style=\"text-align: right;\">\n      <th></th>\n      <th>headline</th>\n      <th>source</th>\n      <th>sentiment</th>\n    </tr>\n    <tr>\n      <th>id</th>\n      <th></th>\n      <th></th>\n      <th></th>\n    </tr>\n  </thead>\n  <tbody>\n    <tr>\n      <th>6185434</th>\n      <td>The best SAD lamps to help literally brighten ...</td>\n      <td>CNN</td>\n      <td>6.8</td>\n    </tr>\n    <tr>\n      <th>2635730</th>\n      <td>50 Valentine's Day gifts your loved ones will ...</td>\n      <td>CNN</td>\n      <td>4.8</td>\n    </tr>\n    <tr>\n      <th>4943215</th>\n      <td>NFL to allow 22,000 fans at Super Bowl LV, inc...</td>\n      <td>CNN</td>\n      <td>4.4</td>\n    </tr>\n    <tr>\n      <th>3379385</th>\n      <td>Taibbi: Declining trust in media result of shi...</td>\n      <td>The Hill</td>\n      <td>4.1</td>\n    </tr>\n    <tr>\n      <th>9185002</th>\n      <td>White House holds call with senators to raise ...</td>\n      <td>CNN</td>\n      <td>3.8</td>\n    </tr>\n  </tbody>\n</table>\n</div>"
     },
     "metadata": {},
     "execution_count": 11
    }
   ],
   "source": [
    "headlines.nlargest(5, 'sentiment')"
   ]
  },
  {
   "cell_type": "code",
   "execution_count": 12,
   "metadata": {},
   "outputs": [
    {
     "output_type": "execute_result",
     "data": {
      "text/plain": [
       "                                                  headline    source  \\\n",
       "id                                                                     \n",
       "1587026  Texas man charged for alleged role in Capitol ...  The Hill   \n",
       "6838904  Serial killer invited to get COVID vaccine ign...       Fox   \n",
       "5691003  Trump impeachment trial is 'stupid,' 'bad for ...       Fox   \n",
       "2052370  Lawmaker introduces bill doubling penalty for ...  The Hill   \n",
       "5064374  Indianapolis police investigate 'mass murder' ...       Fox   \n",
       "\n",
       "         sentiment  \n",
       "id                  \n",
       "1587026       -8.7  \n",
       "6838904       -5.6  \n",
       "5691003       -4.9  \n",
       "2052370       -4.6  \n",
       "5064374       -3.7  "
      ],
      "text/html": "<div>\n<style scoped>\n    .dataframe tbody tr th:only-of-type {\n        vertical-align: middle;\n    }\n\n    .dataframe tbody tr th {\n        vertical-align: top;\n    }\n\n    .dataframe thead th {\n        text-align: right;\n    }\n</style>\n<table border=\"1\" class=\"dataframe\">\n  <thead>\n    <tr style=\"text-align: right;\">\n      <th></th>\n      <th>headline</th>\n      <th>source</th>\n      <th>sentiment</th>\n    </tr>\n    <tr>\n      <th>id</th>\n      <th></th>\n      <th></th>\n      <th></th>\n    </tr>\n  </thead>\n  <tbody>\n    <tr>\n      <th>1587026</th>\n      <td>Texas man charged for alleged role in Capitol ...</td>\n      <td>The Hill</td>\n      <td>-8.7</td>\n    </tr>\n    <tr>\n      <th>6838904</th>\n      <td>Serial killer invited to get COVID vaccine ign...</td>\n      <td>Fox</td>\n      <td>-5.6</td>\n    </tr>\n    <tr>\n      <th>5691003</th>\n      <td>Trump impeachment trial is 'stupid,' 'bad for ...</td>\n      <td>Fox</td>\n      <td>-4.9</td>\n    </tr>\n    <tr>\n      <th>2052370</th>\n      <td>Lawmaker introduces bill doubling penalty for ...</td>\n      <td>The Hill</td>\n      <td>-4.6</td>\n    </tr>\n    <tr>\n      <th>5064374</th>\n      <td>Indianapolis police investigate 'mass murder' ...</td>\n      <td>Fox</td>\n      <td>-3.7</td>\n    </tr>\n  </tbody>\n</table>\n</div>"
     },
     "metadata": {},
     "execution_count": 12
    }
   ],
   "source": [
    "headlines.nsmallest(5, 'sentiment')"
   ]
  },
  {
   "cell_type": "code",
   "execution_count": 13,
   "metadata": {},
   "outputs": [
    {
     "output_type": "stream",
     "name": "stdout",
     "text": [
      "<!doctype html>\n\n<html lang=\"en\">\n<head>\n  <meta charset=\"utf-8\">\n\n  <title>Michael DeDreu</title>\n\n  <link rel=\"stylesheet\" href=\"https://stackpath.bootstrapcdn.com/bootstrap/4.3.1/css/bootstrap.min.css\" integrity=\"sha384-ggOyR0iXCbMQv3Xipma34MD+dH/1fQ784/j6cY/iJTQUOhcWr7x9JvoRxT2MZw1T\" crossorigin=\"anonymous\">\n  <link rel=\"stylesheet\" href=\"styles.css\">\n</head>\n\n<body>\n  <nav class=\"navbar navbar-expand-lg navbar-dark bg-dark\">\n    <a class=\"navbar-brand\" href=\"#\">Michael DeDreu</a>\n    <button class=\"navbar-toggler\" type=\"button\" data-toggle=\"collapse\" data-target=\"#navbarSupportedContent\" aria-controls=\"navbarSupportedContent\" aria-expanded=\"false\" aria-label=\"Toggle navigation\">\n      <span class=\"navbar-toggler-icon\"></span>\n    </button>\n  \n    <div class=\"collapse navbar-collapse\" id=\"navbarSupportedContent\">\n      <ul class=\"navbar-nav mr-auto\">\n        <li class=\"nav-item active\">\n          <a class=\"nav-link active\" href=\"index.html\">Home</a>\n        </li>\n        <li class=\"nav-item\">\n          <a class=\"nav-link\" href=\"resume.html\">Resume</a>\n        </li>\n        <li class=\"nav-item\">\n          <a class=\"nav-link\" href=\"projects.html\">Projects</a>\n        </li>\n        <li class=\"nav-item\">\n          <a class=\"nav-link\" href=\"#\">Contact</a>\n        </li>\n      </ul>\n    </div>\n  </nav>\n\n  <div id=\"about\" class=\"container jumbotron p-md-5 text-white rounded bg-dark\">\n    <div class=\"row\">\n      <div class=\"col-sm\">\n        <h1>About me</h1>\n        <p>\n          Hi, my name is Michael! I am a Senior Computer Science student studying\n          at Rutgers University. I am currently seeking an entry-level opportunity\n          in Backend Software Development.\n          <br><br>\n          I am fluent in both Java and Python, however I also have intermidiate knowledge of other languages such as C, Javascript, Ocaml, and SQL.\n          <br><br>\n          In my freetime I enjoy working on side projects particularly in Data Science, gathering data and\n          seeing what patterns I can find from it. \n        </p>\n      </div>\n      <div class=\"col-sm\">\n        <img src=\"resources/profilePic.jpg\" style=\"width: 50%;\" class=\"img-thumbnail\">\n      </div>\n    </div>\n\n  </div>\n\n  <footer class=\"container text-center text-white\">\n    <p>\n      Michael DeDreu 2020<br>\n      <a href=\"https://github.com/capacitor21\">github.com/capacitor21</a>\n    </p>\n  </footer>\n\n  <script src=\"https://code.jquery.com/jquery-3.3.1.slim.min.js\" integrity=\"sha384-q8i/X+965DzO0rT7abK41JStQIAqVgRVzpbzo5smXKp4YfRvH+8abtTE1Pi6jizo\" crossorigin=\"anonymous\"></script>\n  <script src=\"https://cdnjs.cloudflare.com/ajax/libs/popper.js/1.14.7/umd/popper.min.js\" integrity=\"sha384-UO2eT0CpHqdSJQ6hJty5KVphtPhzWj9WO1clHTMGa3JDZwrnQq4sF86dIHNDz0W1\" crossorigin=\"anonymous\"></script>\n  <script src=\"https://stackpath.bootstrapcdn.com/bootstrap/4.3.1/js/bootstrap.min.js\" integrity=\"sha384-JjSmVgyd0p3pXB1rRibZUAYoIIy6OrQ6VrjIEaFf/nJGzIxFDsf4x0xIM+B07jRM\" crossorigin=\"anonymous\"></script>\n</body>\n</html>\n"
     ]
    }
   ],
   "source": [
    "res = requests.get(\"https://mdedreu.com\")\n",
    "\n",
    "print(res.text)"
   ]
  },
  {
   "cell_type": "code",
   "execution_count": 16,
   "metadata": {},
   "outputs": [
    {
     "output_type": "execute_result",
     "data": {
      "text/plain": [
       "'Lawmaker introduces bill doubling penalty for insurrection following Capitol riots'"
      ]
     },
     "metadata": {},
     "execution_count": 16
    }
   ],
   "source": [
    "headlines.loc[2052370]['headline']"
   ]
  },
  {
   "cell_type": "code",
   "execution_count": 28,
   "metadata": {},
   "outputs": [],
   "source": [
    "headlines = pd.read_csv('headlines.csv').set_index('id')"
   ]
  },
  {
   "cell_type": "code",
   "execution_count": 30,
   "metadata": {},
   "outputs": [
    {
     "output_type": "execute_result",
     "data": {
      "text/plain": [
       "                                                  headline source        date\n",
       "id                                                                           \n",
       "9073730  We tested nine top-rated hair dryers to find t...    CNN  01/26/2021\n",
       "919706   Truff's pasta sauce is one of the best sauces ...    CNN  01/26/2021\n",
       "3753168  Which Microsoft Surfaces are worth the money? ...    CNN  01/26/2021\n",
       "5693934  The Amex Gold Card is effectively paying you t...    CNN  01/26/2021\n",
       "1181777                         The best coupons at Kohl's    CNN  01/26/2021"
      ],
      "text/html": "<div>\n<style scoped>\n    .dataframe tbody tr th:only-of-type {\n        vertical-align: middle;\n    }\n\n    .dataframe tbody tr th {\n        vertical-align: top;\n    }\n\n    .dataframe thead th {\n        text-align: right;\n    }\n</style>\n<table border=\"1\" class=\"dataframe\">\n  <thead>\n    <tr style=\"text-align: right;\">\n      <th></th>\n      <th>headline</th>\n      <th>source</th>\n      <th>date</th>\n    </tr>\n    <tr>\n      <th>id</th>\n      <th></th>\n      <th></th>\n      <th></th>\n    </tr>\n  </thead>\n  <tbody>\n    <tr>\n      <th>9073730</th>\n      <td>We tested nine top-rated hair dryers to find t...</td>\n      <td>CNN</td>\n      <td>01/26/2021</td>\n    </tr>\n    <tr>\n      <th>919706</th>\n      <td>Truff's pasta sauce is one of the best sauces ...</td>\n      <td>CNN</td>\n      <td>01/26/2021</td>\n    </tr>\n    <tr>\n      <th>3753168</th>\n      <td>Which Microsoft Surfaces are worth the money? ...</td>\n      <td>CNN</td>\n      <td>01/26/2021</td>\n    </tr>\n    <tr>\n      <th>5693934</th>\n      <td>The Amex Gold Card is effectively paying you t...</td>\n      <td>CNN</td>\n      <td>01/26/2021</td>\n    </tr>\n    <tr>\n      <th>1181777</th>\n      <td>The best coupons at Kohl's</td>\n      <td>CNN</td>\n      <td>01/26/2021</td>\n    </tr>\n  </tbody>\n</table>\n</div>"
     },
     "metadata": {},
     "execution_count": 30
    }
   ],
   "source": [
    "headlines.tail()"
   ]
  },
  {
   "cell_type": "code",
   "execution_count": 41,
   "metadata": {},
   "outputs": [],
   "source": [
    "from sqlalchemy import create_engine\n",
    "from sqlalchemy.sql import text\n",
    "import json\n",
    "\n",
    "with open('keys.json', 'r') as keys:\n",
    "    key = json.load(keys)['awsKey']\n",
    "\n",
    "engine = create_engine(key)\n",
    "\n",
    "headlines.to_sql('headlines', con=engine, if_exists='append')"
   ]
  },
  {
   "cell_type": "code",
   "execution_count": 38,
   "metadata": {},
   "outputs": [
    {
     "output_type": "execute_result",
     "data": {
      "text/plain": [
       "234"
      ]
     },
     "metadata": {},
     "execution_count": 38
    }
   ],
   "source": [
    "headlines['headline'].str.len().max()"
   ]
  }
 ]
}