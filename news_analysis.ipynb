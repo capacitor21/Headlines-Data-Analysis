{
 "metadata": {
  "language_info": {
   "codemirror_mode": {
    "name": "ipython",
    "version": 3
   },
   "file_extension": ".py",
   "mimetype": "text/x-python",
   "name": "python",
   "nbconvert_exporter": "python",
   "pygments_lexer": "ipython3",
   "version": "3.8.3-final"
  },
  "orig_nbformat": 2,
  "kernelspec": {
   "name": "python3",
   "display_name": "Python 3",
   "language": "python"
  }
 },
 "nbformat": 4,
 "nbformat_minor": 2,
 "cells": [
  {
   "cell_type": "code",
   "execution_count": 199,
   "metadata": {
    "tags": []
   },
   "outputs": [],
   "source": [
    "import requests\n",
    "from bs4 import BeautifulSoup\n",
    "import pandas as pd\n",
    "import numpy as np\n",
    "import nltk\n",
    "import nltk.corpus\n",
    "\n",
    "res = requests.get(\"https://thehill.com/\")\n",
    "text = res.text\n",
    "\n",
    "soup = BeautifulSoup(text, 'html.parser')\n",
    "\n",
    "titles = []\n",
    "for title in soup.find_all('a'):\n",
    "    if title.get('title') != None and title.get('title') not in titles:\n",
    "        titles.append(title.get('title'))\n"
   ]
  },
  {
   "cell_type": "code",
   "execution_count": 149,
   "metadata": {
    "tags": []
   },
   "outputs": [],
   "source": [
    "#Load cnn html using selenium because page is dynamic and need to get the source html\n",
    "from selenium import webdriver\n",
    "from selenium.webdriver.chrome.options import Options\n",
    "import time\n",
    "\n",
    "PATH = \"C:\\Program Files (x86)\\chromedriver.exe\"\n",
    "\n",
    "opts = Options()\n",
    "#opts.set_headless() #keeps window closed\n",
    "browser = webdriver.Chrome(PATH, options=opts) \n",
    "browser.get(\"https://www.cnn.com/\") #run the site\n",
    "\n",
    "cnnHtml = browser.page_source  #get the html\n",
    "\n",
    "time.sleep(5)\n",
    "browser.quit()"
   ]
  },
  {
   "cell_type": "code",
   "execution_count": 159,
   "metadata": {},
   "outputs": [],
   "source": [
    "#Get fox html\n",
    "res = requests.get('https://www.foxnews.com/')\n",
    "\n",
    "foxHtml = res.text"
   ]
  },
  {
   "cell_type": "code",
   "execution_count": 174,
   "metadata": {
    "tags": []
   },
   "outputs": [],
   "source": [
    "foxSoup = BeautifulSoup(foxHtml, 'html.parser')\n",
    "\n",
    "articles = foxSoup.find_all('h2', class_ = 'title title-color-default')\n",
    "\n",
    "foxTitles = []\n",
    "for title in articles:\n",
    "    foxTitles.append(title.text)"
   ]
  },
  {
   "cell_type": "code",
   "execution_count": 220,
   "metadata": {},
   "outputs": [],
   "source": [
    "#parsing the cnn titles\n",
    "import re\n",
    "\n",
    "cnnSoup = BeautifulSoup(cnnHtml, 'html.parser')\n",
    "\n",
    "#Get headline elements\n",
    "cnnTags = cnnSoup.find_all('span', class_=\"cd__headline-text vid-left-enabled\")\n",
    "\n",
    "#extract text content\n",
    "cnnTitles = []\n",
    "for title in cnnTags:\n",
    "    cnnTitles.append(title.text)"
   ]
  },
  {
   "cell_type": "code",
   "execution_count": 223,
   "metadata": {
    "tags": []
   },
   "outputs": [],
   "source": [
    "from nltk.corpus import stopwords\n",
    "from nltk.corpus import wordnet\n",
    "from nltk.stem import WordNetLemmatizer\n",
    "import re\n",
    "\n",
    "theHillHeadlines = pd.DataFrame({'id': np.random.randint(5000, 10000000, size=len(titles)), 'headline': titles}).set_index('id')#load to dataframe\n",
    "theHillHeadlines['source'] = 'The Hill'\n",
    "\n",
    "cnnHeadlines = pd.DataFrame({'id': np.random.randint(5000, 10000000, size=len(cnnTitles)), 'headline': cnnTitles}).set_index('id')\n",
    "cnnHeadlines['source'] = 'CNN'\n",
    "\n",
    "foxHeadlines = pd.DataFrame({'id': np.random.randint(5000, 10000000, size=len(foxTitles)), 'headline': foxTitles}).set_index('id')\n",
    "foxHeadlines['source'] = 'Fox'\n",
    "\n",
    "headlines = pd.concat([theHillHeadlines, foxHeadlines, cnnHeadlines], axis=0)\n",
    "\n",
    "headlines.head()\n",
    "\n",
    "\n",
    "words = headlines['headline'].str.split(' ', expand=True).stack().reset_index(level=1).rename(columns={'level_1': 'position', 0: 'word'})\n",
    "\n",
    "#remove punctuation\n",
    "words['word'] = words['word'].apply(lambda x: re.sub(r'[^\\w\\s]', '', x))\n",
    "\n",
    "\n",
    "#filter stopwords out\n",
    "words['word'] = words['word'].where(lambda x: ~x.isin(stopwords.words('english')))\n",
    "\n",
    "words = words[words['word'].notna()]\n",
    "\n",
    "\n",
    "#lemmatize words to remove plurals\n",
    "def lem(x):\n",
    "    lemmatizer = WordNetLemmatizer()\n",
    "    lemmatized = lemmatizer.lemmatize(x)\n",
    "    return lemmatized\n",
    "\n",
    "words['word'] = words['word'].apply(lem)\n",
    "\n"
   ]
  },
  {
   "cell_type": "code",
   "execution_count": 232,
   "metadata": {},
   "outputs": [
    {
     "output_type": "stream",
     "name": "stdout",
     "text": [
      "Average sentiment of hill articles: 0.20085106382978712\n"
     ]
    },
    {
     "output_type": "execute_result",
     "data": {
      "text/plain": [
       "                                                  headline    source  \\\n",
       "id                                                                     \n",
       "9278808  Chinese official unveils future moon mission p...  The Hill   \n",
       "5210411  Trump's talk of martial law sends White House ...       CNN   \n",
       "2466371                  India crowns new Miss Transqueen        CNN   \n",
       "2692636                                            Opinion  The Hill   \n",
       "350311   American people ‘desperately need’ coronavirus...       Fox   \n",
       "5646204                                          UK strain       CNN   \n",
       "2664058  20 percent of US prisoners infected with COVID...  The Hill   \n",
       "9684195                                           Fox News       CNN   \n",
       "9592582  Coalition of Black pastors slam Loeffler campa...       CNN   \n",
       "354581     Congress to pass deal with $600 stimulus checks  The Hill   \n",
       "6717155  Ex-CDC Chief Frieden on safety of coronavirus ...       Fox   \n",
       "5644555                                             Rising  The Hill   \n",
       "6295681                                         Technology  The Hill   \n",
       "6021021  Meghan and Harry's Netflix deal a 'nightmare' ...       Fox   \n",
       "3509335  These innovative car accessories are marked do...  The Hill   \n",
       "1170103   WATCH LIVE: All-American Christmas at Fox Square       Fox   \n",
       "8506749  Supreme Court tosses challenge to Trump's immi...  The Hill   \n",
       "2168858  Romney calls for response 'of like magnitude o...  The Hill   \n",
       "5232010  Nations ban UK flights in move to block new vi...  The Hill   \n",
       "2637786  Correctly pick the winners & margins in these ...       Fox   \n",
       "5966400  White House vaccine chief explains why states ...       CNN   \n",
       "7599674  Pompeo: Russia 'pretty clearly' behind massive...  The Hill   \n",
       "6100249  Toomey praises end of Federal Reserve lending ...  The Hill   \n",
       "1206884  Trump signs 2-day stopgap bill allowing Congre...       Fox   \n",
       "904697   Sesame Workshop debuts its first ever Rohingya...       CNN   \n",
       "\n",
       "         sentiment  \n",
       "id                  \n",
       "9278808        0.0  \n",
       "5210411        0.0  \n",
       "2466371        0.0  \n",
       "2692636        0.0  \n",
       "350311         0.5  \n",
       "5646204       -0.2  \n",
       "2664058       -4.7  \n",
       "9684195        0.0  \n",
       "9592582       -3.7  \n",
       "354581         0.0  \n",
       "6717155        1.8  \n",
       "5644555        0.0  \n",
       "6295681        0.0  \n",
       "6021021       -3.8  \n",
       "3509335        1.9  \n",
       "1170103        0.0  \n",
       "8506749        0.3  \n",
       "2168858        3.0  \n",
       "5232010       -4.7  \n",
       "2637786        5.6  \n",
       "5966400        1.8  \n",
       "7599674        3.9  \n",
       "6100249        6.4  \n",
       "1206884        2.1  \n",
       "904697         0.0  "
      ],
      "text/html": "<div>\n<style scoped>\n    .dataframe tbody tr th:only-of-type {\n        vertical-align: middle;\n    }\n\n    .dataframe tbody tr th {\n        vertical-align: top;\n    }\n\n    .dataframe thead th {\n        text-align: right;\n    }\n</style>\n<table border=\"1\" class=\"dataframe\">\n  <thead>\n    <tr style=\"text-align: right;\">\n      <th></th>\n      <th>headline</th>\n      <th>source</th>\n      <th>sentiment</th>\n    </tr>\n    <tr>\n      <th>id</th>\n      <th></th>\n      <th></th>\n      <th></th>\n    </tr>\n  </thead>\n  <tbody>\n    <tr>\n      <th>9278808</th>\n      <td>Chinese official unveils future moon mission p...</td>\n      <td>The Hill</td>\n      <td>0.0</td>\n    </tr>\n    <tr>\n      <th>5210411</th>\n      <td>Trump's talk of martial law sends White House ...</td>\n      <td>CNN</td>\n      <td>0.0</td>\n    </tr>\n    <tr>\n      <th>2466371</th>\n      <td>India crowns new Miss Transqueen</td>\n      <td>CNN</td>\n      <td>0.0</td>\n    </tr>\n    <tr>\n      <th>2692636</th>\n      <td>Opinion</td>\n      <td>The Hill</td>\n      <td>0.0</td>\n    </tr>\n    <tr>\n      <th>350311</th>\n      <td>American people ‘desperately need’ coronavirus...</td>\n      <td>Fox</td>\n      <td>0.5</td>\n    </tr>\n    <tr>\n      <th>5646204</th>\n      <td>UK strain</td>\n      <td>CNN</td>\n      <td>-0.2</td>\n    </tr>\n    <tr>\n      <th>2664058</th>\n      <td>20 percent of US prisoners infected with COVID...</td>\n      <td>The Hill</td>\n      <td>-4.7</td>\n    </tr>\n    <tr>\n      <th>9684195</th>\n      <td>Fox News</td>\n      <td>CNN</td>\n      <td>0.0</td>\n    </tr>\n    <tr>\n      <th>9592582</th>\n      <td>Coalition of Black pastors slam Loeffler campa...</td>\n      <td>CNN</td>\n      <td>-3.7</td>\n    </tr>\n    <tr>\n      <th>354581</th>\n      <td>Congress to pass deal with $600 stimulus checks</td>\n      <td>The Hill</td>\n      <td>0.0</td>\n    </tr>\n    <tr>\n      <th>6717155</th>\n      <td>Ex-CDC Chief Frieden on safety of coronavirus ...</td>\n      <td>Fox</td>\n      <td>1.8</td>\n    </tr>\n    <tr>\n      <th>5644555</th>\n      <td>Rising</td>\n      <td>The Hill</td>\n      <td>0.0</td>\n    </tr>\n    <tr>\n      <th>6295681</th>\n      <td>Technology</td>\n      <td>The Hill</td>\n      <td>0.0</td>\n    </tr>\n    <tr>\n      <th>6021021</th>\n      <td>Meghan and Harry's Netflix deal a 'nightmare' ...</td>\n      <td>Fox</td>\n      <td>-3.8</td>\n    </tr>\n    <tr>\n      <th>3509335</th>\n      <td>These innovative car accessories are marked do...</td>\n      <td>The Hill</td>\n      <td>1.9</td>\n    </tr>\n    <tr>\n      <th>1170103</th>\n      <td>WATCH LIVE: All-American Christmas at Fox Square</td>\n      <td>Fox</td>\n      <td>0.0</td>\n    </tr>\n    <tr>\n      <th>8506749</th>\n      <td>Supreme Court tosses challenge to Trump's immi...</td>\n      <td>The Hill</td>\n      <td>0.3</td>\n    </tr>\n    <tr>\n      <th>2168858</th>\n      <td>Romney calls for response 'of like magnitude o...</td>\n      <td>The Hill</td>\n      <td>3.0</td>\n    </tr>\n    <tr>\n      <th>5232010</th>\n      <td>Nations ban UK flights in move to block new vi...</td>\n      <td>The Hill</td>\n      <td>-4.7</td>\n    </tr>\n    <tr>\n      <th>2637786</th>\n      <td>Correctly pick the winners &amp; margins in these ...</td>\n      <td>Fox</td>\n      <td>5.6</td>\n    </tr>\n    <tr>\n      <th>5966400</th>\n      <td>White House vaccine chief explains why states ...</td>\n      <td>CNN</td>\n      <td>1.8</td>\n    </tr>\n    <tr>\n      <th>7599674</th>\n      <td>Pompeo: Russia 'pretty clearly' behind massive...</td>\n      <td>The Hill</td>\n      <td>3.9</td>\n    </tr>\n    <tr>\n      <th>6100249</th>\n      <td>Toomey praises end of Federal Reserve lending ...</td>\n      <td>The Hill</td>\n      <td>6.4</td>\n    </tr>\n    <tr>\n      <th>1206884</th>\n      <td>Trump signs 2-day stopgap bill allowing Congre...</td>\n      <td>Fox</td>\n      <td>2.1</td>\n    </tr>\n    <tr>\n      <th>904697</th>\n      <td>Sesame Workshop debuts its first ever Rohingya...</td>\n      <td>CNN</td>\n      <td>0.0</td>\n    </tr>\n  </tbody>\n</table>\n</div>"
     },
     "metadata": {},
     "execution_count": 232
    }
   ],
   "source": [
    "#load dataframe of word -> sentiment value\n",
    "sentiment = pd.read_csv('vader_lexicon.txt', sep='\\t', index_col=0, names=['polarity', 'normalized_polarity', 'matrix'])\n",
    "sentiment = sentiment.drop(columns = sentiment.columns.difference(['polarity']))\n",
    "\n",
    "#Merge word sentiments with each word and replace nan with 0s to be neutral\n",
    "polarities = words.merge(sentiment, left_on='word', right_index=True, how='left').fillna(0.0)\n",
    "\n",
    "#Get sum of polarites for each title\n",
    "sums = polarities.groupby(level=0)['polarity'].sum()\n",
    "\n",
    "#Add polarity value back to each title\n",
    "headlines['sentiment'] = sums\n",
    "mean = headlines['sentiment'].mean()\n",
    "\n",
    "print(\"Average sentiment of hill articles: \" + str(mean))\n",
    "\n",
    "headlines.sample(n=25)\n",
    "\n"
   ]
  },
  {
   "cell_type": "code",
   "execution_count": 230,
   "metadata": {},
   "outputs": [
    {
     "output_type": "execute_result",
     "data": {
      "text/plain": [
       "<matplotlib.axes._subplots.AxesSubplot at 0x1f09f632b50>"
      ]
     },
     "metadata": {},
     "execution_count": 230
    },
    {
     "output_type": "display_data",
     "data": {
      "text/plain": "<Figure size 432x288 with 1 Axes>",
      "image/svg+xml": "<?xml version=\"1.0\" encoding=\"utf-8\" standalone=\"no\"?>\r\n<!DOCTYPE svg PUBLIC \"-//W3C//DTD SVG 1.1//EN\"\r\n  \"http://www.w3.org/Graphics/SVG/1.1/DTD/svg11.dtd\">\r\n<!-- Created with matplotlib (https://matplotlib.org/) -->\r\n<svg height=\"264.024305pt\" version=\"1.1\" viewBox=\"0 0 400.523437 264.024305\" width=\"400.523437pt\" xmlns=\"http://www.w3.org/2000/svg\" xmlns:xlink=\"http://www.w3.org/1999/xlink\">\r\n <defs>\r\n  <style type=\"text/css\">\r\n*{stroke-linecap:butt;stroke-linejoin:round;}\r\n  </style>\r\n </defs>\r\n <g id=\"figure_1\">\r\n  <g id=\"patch_1\">\r\n   <path d=\"M 0 264.024305 \r\nL 400.523437 264.024305 \r\nL 400.523437 0 \r\nL 0 0 \r\nz\r\n\" style=\"fill:none;\"/>\r\n  </g>\r\n  <g id=\"axes_1\">\r\n   <g id=\"patch_2\">\r\n    <path d=\"M 58.523438 226.468055 \r\nL 393.323438 226.468055 \r\nL 393.323438 9.028055 \r\nL 58.523438 9.028055 \r\nz\r\n\" style=\"fill:#ffffff;\"/>\r\n   </g>\r\n   <g id=\"patch_3\">\r\n    <path clip-path=\"url(#p15528081b8)\" d=\"M 69.683438 194.469676 \r\nL 158.963437 194.469676 \r\nL 158.963437 78.338925 \r\nL 69.683438 78.338925 \r\nz\r\n\" style=\"fill:#3274a1;\"/>\r\n   </g>\r\n   <g id=\"patch_4\">\r\n    <path clip-path=\"url(#p15528081b8)\" d=\"M 181.283437 194.469676 \r\nL 270.563437 194.469676 \r\nL 270.563437 216.584419 \r\nL 181.283437 216.584419 \r\nz\r\n\" style=\"fill:#e1812c;\"/>\r\n   </g>\r\n   <g id=\"patch_5\">\r\n    <path clip-path=\"url(#p15528081b8)\" d=\"M 292.883438 194.469676 \r\nL 382.163438 194.469676 \r\nL 382.163438 18.911691 \r\nL 292.883438 18.911691 \r\nz\r\n\" style=\"fill:#3a923a;\"/>\r\n   </g>\r\n   <g id=\"matplotlib.axis_1\">\r\n    <g id=\"xtick_1\">\r\n     <g id=\"line2d_1\">\r\n      <defs>\r\n       <path d=\"M 0 0 \r\nL 0 3.5 \r\n\" id=\"me3973039a3\" style=\"stroke:#000000;stroke-width:0.8;\"/>\r\n      </defs>\r\n      <g>\r\n       <use style=\"stroke:#000000;stroke-width:0.8;\" x=\"114.323438\" xlink:href=\"#me3973039a3\" y=\"226.468055\"/>\r\n      </g>\r\n     </g>\r\n     <g id=\"text_1\">\r\n      <!-- CNN -->\r\n      <defs>\r\n       <path d=\"M 64.40625 67.28125 \r\nL 64.40625 56.890625 \r\nQ 59.421875 61.53125 53.78125 63.8125 \r\nQ 48.140625 66.109375 41.796875 66.109375 \r\nQ 29.296875 66.109375 22.65625 58.46875 \r\nQ 16.015625 50.828125 16.015625 36.375 \r\nQ 16.015625 21.96875 22.65625 14.328125 \r\nQ 29.296875 6.6875 41.796875 6.6875 \r\nQ 48.140625 6.6875 53.78125 8.984375 \r\nQ 59.421875 11.28125 64.40625 15.921875 \r\nL 64.40625 5.609375 \r\nQ 59.234375 2.09375 53.4375 0.328125 \r\nQ 47.65625 -1.421875 41.21875 -1.421875 \r\nQ 24.65625 -1.421875 15.125 8.703125 \r\nQ 5.609375 18.84375 5.609375 36.375 \r\nQ 5.609375 53.953125 15.125 64.078125 \r\nQ 24.65625 74.21875 41.21875 74.21875 \r\nQ 47.75 74.21875 53.53125 72.484375 \r\nQ 59.328125 70.75 64.40625 67.28125 \r\nz\r\n\" id=\"DejaVuSans-67\"/>\r\n       <path d=\"M 9.8125 72.90625 \r\nL 23.09375 72.90625 \r\nL 55.421875 11.921875 \r\nL 55.421875 72.90625 \r\nL 64.984375 72.90625 \r\nL 64.984375 0 \r\nL 51.703125 0 \r\nL 19.390625 60.984375 \r\nL 19.390625 0 \r\nL 9.8125 0 \r\nz\r\n\" id=\"DejaVuSans-78\"/>\r\n      </defs>\r\n      <g transform=\"translate(103.350781 241.066492)scale(0.1 -0.1)\">\r\n       <use xlink:href=\"#DejaVuSans-67\"/>\r\n       <use x=\"69.824219\" xlink:href=\"#DejaVuSans-78\"/>\r\n       <use x=\"144.628906\" xlink:href=\"#DejaVuSans-78\"/>\r\n      </g>\r\n     </g>\r\n    </g>\r\n    <g id=\"xtick_2\">\r\n     <g id=\"line2d_2\">\r\n      <g>\r\n       <use style=\"stroke:#000000;stroke-width:0.8;\" x=\"225.923438\" xlink:href=\"#me3973039a3\" y=\"226.468055\"/>\r\n      </g>\r\n     </g>\r\n     <g id=\"text_2\">\r\n      <!-- Fox -->\r\n      <defs>\r\n       <path d=\"M 9.8125 72.90625 \r\nL 51.703125 72.90625 \r\nL 51.703125 64.59375 \r\nL 19.671875 64.59375 \r\nL 19.671875 43.109375 \r\nL 48.578125 43.109375 \r\nL 48.578125 34.8125 \r\nL 19.671875 34.8125 \r\nL 19.671875 0 \r\nL 9.8125 0 \r\nz\r\n\" id=\"DejaVuSans-70\"/>\r\n       <path d=\"M 30.609375 48.390625 \r\nQ 23.390625 48.390625 19.1875 42.75 \r\nQ 14.984375 37.109375 14.984375 27.296875 \r\nQ 14.984375 17.484375 19.15625 11.84375 \r\nQ 23.34375 6.203125 30.609375 6.203125 \r\nQ 37.796875 6.203125 41.984375 11.859375 \r\nQ 46.1875 17.53125 46.1875 27.296875 \r\nQ 46.1875 37.015625 41.984375 42.703125 \r\nQ 37.796875 48.390625 30.609375 48.390625 \r\nz\r\nM 30.609375 56 \r\nQ 42.328125 56 49.015625 48.375 \r\nQ 55.71875 40.765625 55.71875 27.296875 \r\nQ 55.71875 13.875 49.015625 6.21875 \r\nQ 42.328125 -1.421875 30.609375 -1.421875 \r\nQ 18.84375 -1.421875 12.171875 6.21875 \r\nQ 5.515625 13.875 5.515625 27.296875 \r\nQ 5.515625 40.765625 12.171875 48.375 \r\nQ 18.84375 56 30.609375 56 \r\nz\r\n\" id=\"DejaVuSans-111\"/>\r\n       <path d=\"M 54.890625 54.6875 \r\nL 35.109375 28.078125 \r\nL 55.90625 0 \r\nL 45.3125 0 \r\nL 29.390625 21.484375 \r\nL 13.484375 0 \r\nL 2.875 0 \r\nL 24.125 28.609375 \r\nL 4.6875 54.6875 \r\nL 15.28125 54.6875 \r\nL 29.78125 35.203125 \r\nL 44.28125 54.6875 \r\nz\r\n\" id=\"DejaVuSans-120\"/>\r\n      </defs>\r\n      <g transform=\"translate(217.366406 241.066492)scale(0.1 -0.1)\">\r\n       <use xlink:href=\"#DejaVuSans-70\"/>\r\n       <use x=\"53.894531\" xlink:href=\"#DejaVuSans-111\"/>\r\n       <use x=\"111.951172\" xlink:href=\"#DejaVuSans-120\"/>\r\n      </g>\r\n     </g>\r\n    </g>\r\n    <g id=\"xtick_3\">\r\n     <g id=\"line2d_3\">\r\n      <g>\r\n       <use style=\"stroke:#000000;stroke-width:0.8;\" x=\"337.523438\" xlink:href=\"#me3973039a3\" y=\"226.468055\"/>\r\n      </g>\r\n     </g>\r\n     <g id=\"text_3\">\r\n      <!-- The Hill -->\r\n      <defs>\r\n       <path d=\"M -0.296875 72.90625 \r\nL 61.375 72.90625 \r\nL 61.375 64.59375 \r\nL 35.5 64.59375 \r\nL 35.5 0 \r\nL 25.59375 0 \r\nL 25.59375 64.59375 \r\nL -0.296875 64.59375 \r\nz\r\n\" id=\"DejaVuSans-84\"/>\r\n       <path d=\"M 54.890625 33.015625 \r\nL 54.890625 0 \r\nL 45.90625 0 \r\nL 45.90625 32.71875 \r\nQ 45.90625 40.484375 42.875 44.328125 \r\nQ 39.84375 48.1875 33.796875 48.1875 \r\nQ 26.515625 48.1875 22.3125 43.546875 \r\nQ 18.109375 38.921875 18.109375 30.90625 \r\nL 18.109375 0 \r\nL 9.078125 0 \r\nL 9.078125 75.984375 \r\nL 18.109375 75.984375 \r\nL 18.109375 46.1875 \r\nQ 21.34375 51.125 25.703125 53.5625 \r\nQ 30.078125 56 35.796875 56 \r\nQ 45.21875 56 50.046875 50.171875 \r\nQ 54.890625 44.34375 54.890625 33.015625 \r\nz\r\n\" id=\"DejaVuSans-104\"/>\r\n       <path d=\"M 56.203125 29.59375 \r\nL 56.203125 25.203125 \r\nL 14.890625 25.203125 \r\nQ 15.484375 15.921875 20.484375 11.0625 \r\nQ 25.484375 6.203125 34.421875 6.203125 \r\nQ 39.59375 6.203125 44.453125 7.46875 \r\nQ 49.3125 8.734375 54.109375 11.28125 \r\nL 54.109375 2.78125 \r\nQ 49.265625 0.734375 44.1875 -0.34375 \r\nQ 39.109375 -1.421875 33.890625 -1.421875 \r\nQ 20.796875 -1.421875 13.15625 6.1875 \r\nQ 5.515625 13.8125 5.515625 26.8125 \r\nQ 5.515625 40.234375 12.765625 48.109375 \r\nQ 20.015625 56 32.328125 56 \r\nQ 43.359375 56 49.78125 48.890625 \r\nQ 56.203125 41.796875 56.203125 29.59375 \r\nz\r\nM 47.21875 32.234375 \r\nQ 47.125 39.59375 43.09375 43.984375 \r\nQ 39.0625 48.390625 32.421875 48.390625 \r\nQ 24.90625 48.390625 20.390625 44.140625 \r\nQ 15.875 39.890625 15.1875 32.171875 \r\nz\r\n\" id=\"DejaVuSans-101\"/>\r\n       <path id=\"DejaVuSans-32\"/>\r\n       <path d=\"M 9.8125 72.90625 \r\nL 19.671875 72.90625 \r\nL 19.671875 43.015625 \r\nL 55.515625 43.015625 \r\nL 55.515625 72.90625 \r\nL 65.375 72.90625 \r\nL 65.375 0 \r\nL 55.515625 0 \r\nL 55.515625 34.71875 \r\nL 19.671875 34.71875 \r\nL 19.671875 0 \r\nL 9.8125 0 \r\nz\r\n\" id=\"DejaVuSans-72\"/>\r\n       <path d=\"M 9.421875 54.6875 \r\nL 18.40625 54.6875 \r\nL 18.40625 0 \r\nL 9.421875 0 \r\nz\r\nM 9.421875 75.984375 \r\nL 18.40625 75.984375 \r\nL 18.40625 64.59375 \r\nL 9.421875 64.59375 \r\nz\r\n\" id=\"DejaVuSans-105\"/>\r\n       <path d=\"M 9.421875 75.984375 \r\nL 18.40625 75.984375 \r\nL 18.40625 0 \r\nL 9.421875 0 \r\nz\r\n\" id=\"DejaVuSans-108\"/>\r\n      </defs>\r\n      <g transform=\"translate(318.707812 241.066492)scale(0.1 -0.1)\">\r\n       <use xlink:href=\"#DejaVuSans-84\"/>\r\n       <use x=\"61.083984\" xlink:href=\"#DejaVuSans-104\"/>\r\n       <use x=\"124.462891\" xlink:href=\"#DejaVuSans-101\"/>\r\n       <use x=\"185.986328\" xlink:href=\"#DejaVuSans-32\"/>\r\n       <use x=\"217.773438\" xlink:href=\"#DejaVuSans-72\"/>\r\n       <use x=\"292.96875\" xlink:href=\"#DejaVuSans-105\"/>\r\n       <use x=\"320.751953\" xlink:href=\"#DejaVuSans-108\"/>\r\n       <use x=\"348.535156\" xlink:href=\"#DejaVuSans-108\"/>\r\n      </g>\r\n     </g>\r\n    </g>\r\n    <g id=\"text_4\">\r\n     <!-- source -->\r\n     <defs>\r\n      <path d=\"M 44.28125 53.078125 \r\nL 44.28125 44.578125 \r\nQ 40.484375 46.53125 36.375 47.5 \r\nQ 32.28125 48.484375 27.875 48.484375 \r\nQ 21.1875 48.484375 17.84375 46.4375 \r\nQ 14.5 44.390625 14.5 40.28125 \r\nQ 14.5 37.15625 16.890625 35.375 \r\nQ 19.28125 33.59375 26.515625 31.984375 \r\nL 29.59375 31.296875 \r\nQ 39.15625 29.25 43.1875 25.515625 \r\nQ 47.21875 21.78125 47.21875 15.09375 \r\nQ 47.21875 7.46875 41.1875 3.015625 \r\nQ 35.15625 -1.421875 24.609375 -1.421875 \r\nQ 20.21875 -1.421875 15.453125 -0.5625 \r\nQ 10.6875 0.296875 5.421875 2 \r\nL 5.421875 11.28125 \r\nQ 10.40625 8.6875 15.234375 7.390625 \r\nQ 20.0625 6.109375 24.8125 6.109375 \r\nQ 31.15625 6.109375 34.5625 8.28125 \r\nQ 37.984375 10.453125 37.984375 14.40625 \r\nQ 37.984375 18.0625 35.515625 20.015625 \r\nQ 33.0625 21.96875 24.703125 23.78125 \r\nL 21.578125 24.515625 \r\nQ 13.234375 26.265625 9.515625 29.90625 \r\nQ 5.8125 33.546875 5.8125 39.890625 \r\nQ 5.8125 47.609375 11.28125 51.796875 \r\nQ 16.75 56 26.8125 56 \r\nQ 31.78125 56 36.171875 55.265625 \r\nQ 40.578125 54.546875 44.28125 53.078125 \r\nz\r\n\" id=\"DejaVuSans-115\"/>\r\n      <path d=\"M 8.5 21.578125 \r\nL 8.5 54.6875 \r\nL 17.484375 54.6875 \r\nL 17.484375 21.921875 \r\nQ 17.484375 14.15625 20.5 10.265625 \r\nQ 23.53125 6.390625 29.59375 6.390625 \r\nQ 36.859375 6.390625 41.078125 11.03125 \r\nQ 45.3125 15.671875 45.3125 23.6875 \r\nL 45.3125 54.6875 \r\nL 54.296875 54.6875 \r\nL 54.296875 0 \r\nL 45.3125 0 \r\nL 45.3125 8.40625 \r\nQ 42.046875 3.421875 37.71875 1 \r\nQ 33.40625 -1.421875 27.6875 -1.421875 \r\nQ 18.265625 -1.421875 13.375 4.4375 \r\nQ 8.5 10.296875 8.5 21.578125 \r\nz\r\nM 31.109375 56 \r\nz\r\n\" id=\"DejaVuSans-117\"/>\r\n      <path d=\"M 41.109375 46.296875 \r\nQ 39.59375 47.171875 37.8125 47.578125 \r\nQ 36.03125 48 33.890625 48 \r\nQ 26.265625 48 22.1875 43.046875 \r\nQ 18.109375 38.09375 18.109375 28.8125 \r\nL 18.109375 0 \r\nL 9.078125 0 \r\nL 9.078125 54.6875 \r\nL 18.109375 54.6875 \r\nL 18.109375 46.1875 \r\nQ 20.953125 51.171875 25.484375 53.578125 \r\nQ 30.03125 56 36.53125 56 \r\nQ 37.453125 56 38.578125 55.875 \r\nQ 39.703125 55.765625 41.0625 55.515625 \r\nz\r\n\" id=\"DejaVuSans-114\"/>\r\n      <path d=\"M 48.78125 52.59375 \r\nL 48.78125 44.1875 \r\nQ 44.96875 46.296875 41.140625 47.34375 \r\nQ 37.3125 48.390625 33.40625 48.390625 \r\nQ 24.65625 48.390625 19.8125 42.84375 \r\nQ 14.984375 37.3125 14.984375 27.296875 \r\nQ 14.984375 17.28125 19.8125 11.734375 \r\nQ 24.65625 6.203125 33.40625 6.203125 \r\nQ 37.3125 6.203125 41.140625 7.25 \r\nQ 44.96875 8.296875 48.78125 10.40625 \r\nL 48.78125 2.09375 \r\nQ 45.015625 0.34375 40.984375 -0.53125 \r\nQ 36.96875 -1.421875 32.421875 -1.421875 \r\nQ 20.0625 -1.421875 12.78125 6.34375 \r\nQ 5.515625 14.109375 5.515625 27.296875 \r\nQ 5.515625 40.671875 12.859375 48.328125 \r\nQ 20.21875 56 33.015625 56 \r\nQ 37.15625 56 41.109375 55.140625 \r\nQ 45.0625 54.296875 48.78125 52.59375 \r\nz\r\n\" id=\"DejaVuSans-99\"/>\r\n     </defs>\r\n     <g transform=\"translate(209.321875 254.744617)scale(0.1 -0.1)\">\r\n      <use xlink:href=\"#DejaVuSans-115\"/>\r\n      <use x=\"52.099609\" xlink:href=\"#DejaVuSans-111\"/>\r\n      <use x=\"113.28125\" xlink:href=\"#DejaVuSans-117\"/>\r\n      <use x=\"176.660156\" xlink:href=\"#DejaVuSans-114\"/>\r\n      <use x=\"215.523438\" xlink:href=\"#DejaVuSans-99\"/>\r\n      <use x=\"270.503906\" xlink:href=\"#DejaVuSans-101\"/>\r\n     </g>\r\n    </g>\r\n   </g>\r\n   <g id=\"matplotlib.axis_2\">\r\n    <g id=\"ytick_1\">\r\n     <g id=\"line2d_4\">\r\n      <defs>\r\n       <path d=\"M 0 0 \r\nL -3.5 0 \r\n\" id=\"m9b7162f2e8\" style=\"stroke:#000000;stroke-width:0.8;\"/>\r\n      </defs>\r\n      <g>\r\n       <use style=\"stroke:#000000;stroke-width:0.8;\" x=\"58.523438\" xlink:href=\"#m9b7162f2e8\" y=\"220.679741\"/>\r\n      </g>\r\n     </g>\r\n     <g id=\"text_5\">\r\n      <!-- −0.05 -->\r\n      <defs>\r\n       <path d=\"M 10.59375 35.5 \r\nL 73.1875 35.5 \r\nL 73.1875 27.203125 \r\nL 10.59375 27.203125 \r\nz\r\n\" id=\"DejaVuSans-8722\"/>\r\n       <path d=\"M 31.78125 66.40625 \r\nQ 24.171875 66.40625 20.328125 58.90625 \r\nQ 16.5 51.421875 16.5 36.375 \r\nQ 16.5 21.390625 20.328125 13.890625 \r\nQ 24.171875 6.390625 31.78125 6.390625 \r\nQ 39.453125 6.390625 43.28125 13.890625 \r\nQ 47.125 21.390625 47.125 36.375 \r\nQ 47.125 51.421875 43.28125 58.90625 \r\nQ 39.453125 66.40625 31.78125 66.40625 \r\nz\r\nM 31.78125 74.21875 \r\nQ 44.046875 74.21875 50.515625 64.515625 \r\nQ 56.984375 54.828125 56.984375 36.375 \r\nQ 56.984375 17.96875 50.515625 8.265625 \r\nQ 44.046875 -1.421875 31.78125 -1.421875 \r\nQ 19.53125 -1.421875 13.0625 8.265625 \r\nQ 6.59375 17.96875 6.59375 36.375 \r\nQ 6.59375 54.828125 13.0625 64.515625 \r\nQ 19.53125 74.21875 31.78125 74.21875 \r\nz\r\n\" id=\"DejaVuSans-48\"/>\r\n       <path d=\"M 10.6875 12.40625 \r\nL 21 12.40625 \r\nL 21 0 \r\nL 10.6875 0 \r\nz\r\n\" id=\"DejaVuSans-46\"/>\r\n       <path d=\"M 10.796875 72.90625 \r\nL 49.515625 72.90625 \r\nL 49.515625 64.59375 \r\nL 19.828125 64.59375 \r\nL 19.828125 46.734375 \r\nQ 21.96875 47.46875 24.109375 47.828125 \r\nQ 26.265625 48.1875 28.421875 48.1875 \r\nQ 40.625 48.1875 47.75 41.5 \r\nQ 54.890625 34.8125 54.890625 23.390625 \r\nQ 54.890625 11.625 47.5625 5.09375 \r\nQ 40.234375 -1.421875 26.90625 -1.421875 \r\nQ 22.3125 -1.421875 17.546875 -0.640625 \r\nQ 12.796875 0.140625 7.71875 1.703125 \r\nL 7.71875 11.625 \r\nQ 12.109375 9.234375 16.796875 8.0625 \r\nQ 21.484375 6.890625 26.703125 6.890625 \r\nQ 35.15625 6.890625 40.078125 11.328125 \r\nQ 45.015625 15.765625 45.015625 23.390625 \r\nQ 45.015625 31 40.078125 35.4375 \r\nQ 35.15625 39.890625 26.703125 39.890625 \r\nQ 22.75 39.890625 18.8125 39.015625 \r\nQ 14.890625 38.140625 10.796875 36.28125 \r\nz\r\n\" id=\"DejaVuSans-53\"/>\r\n      </defs>\r\n      <g transform=\"translate(20.878125 224.47896)scale(0.1 -0.1)\">\r\n       <use xlink:href=\"#DejaVuSans-8722\"/>\r\n       <use x=\"83.789062\" xlink:href=\"#DejaVuSans-48\"/>\r\n       <use x=\"147.412109\" xlink:href=\"#DejaVuSans-46\"/>\r\n       <use x=\"179.199219\" xlink:href=\"#DejaVuSans-48\"/>\r\n       <use x=\"242.822266\" xlink:href=\"#DejaVuSans-53\"/>\r\n      </g>\r\n     </g>\r\n    </g>\r\n    <g id=\"ytick_2\">\r\n     <g id=\"line2d_5\">\r\n      <g>\r\n       <use style=\"stroke:#000000;stroke-width:0.8;\" x=\"58.523438\" xlink:href=\"#m9b7162f2e8\" y=\"194.469676\"/>\r\n      </g>\r\n     </g>\r\n     <g id=\"text_6\">\r\n      <!-- 0.00 -->\r\n      <g transform=\"translate(29.257813 198.268895)scale(0.1 -0.1)\">\r\n       <use xlink:href=\"#DejaVuSans-48\"/>\r\n       <use x=\"63.623047\" xlink:href=\"#DejaVuSans-46\"/>\r\n       <use x=\"95.410156\" xlink:href=\"#DejaVuSans-48\"/>\r\n       <use x=\"159.033203\" xlink:href=\"#DejaVuSans-48\"/>\r\n      </g>\r\n     </g>\r\n    </g>\r\n    <g id=\"ytick_3\">\r\n     <g id=\"line2d_6\">\r\n      <g>\r\n       <use style=\"stroke:#000000;stroke-width:0.8;\" x=\"58.523438\" xlink:href=\"#m9b7162f2e8\" y=\"168.259611\"/>\r\n      </g>\r\n     </g>\r\n     <g id=\"text_7\">\r\n      <!-- 0.05 -->\r\n      <g transform=\"translate(29.257813 172.058829)scale(0.1 -0.1)\">\r\n       <use xlink:href=\"#DejaVuSans-48\"/>\r\n       <use x=\"63.623047\" xlink:href=\"#DejaVuSans-46\"/>\r\n       <use x=\"95.410156\" xlink:href=\"#DejaVuSans-48\"/>\r\n       <use x=\"159.033203\" xlink:href=\"#DejaVuSans-53\"/>\r\n      </g>\r\n     </g>\r\n    </g>\r\n    <g id=\"ytick_4\">\r\n     <g id=\"line2d_7\">\r\n      <g>\r\n       <use style=\"stroke:#000000;stroke-width:0.8;\" x=\"58.523438\" xlink:href=\"#m9b7162f2e8\" y=\"142.049545\"/>\r\n      </g>\r\n     </g>\r\n     <g id=\"text_8\">\r\n      <!-- 0.10 -->\r\n      <defs>\r\n       <path d=\"M 12.40625 8.296875 \r\nL 28.515625 8.296875 \r\nL 28.515625 63.921875 \r\nL 10.984375 60.40625 \r\nL 10.984375 69.390625 \r\nL 28.421875 72.90625 \r\nL 38.28125 72.90625 \r\nL 38.28125 8.296875 \r\nL 54.390625 8.296875 \r\nL 54.390625 0 \r\nL 12.40625 0 \r\nz\r\n\" id=\"DejaVuSans-49\"/>\r\n      </defs>\r\n      <g transform=\"translate(29.257813 145.848764)scale(0.1 -0.1)\">\r\n       <use xlink:href=\"#DejaVuSans-48\"/>\r\n       <use x=\"63.623047\" xlink:href=\"#DejaVuSans-46\"/>\r\n       <use x=\"95.410156\" xlink:href=\"#DejaVuSans-49\"/>\r\n       <use x=\"159.033203\" xlink:href=\"#DejaVuSans-48\"/>\r\n      </g>\r\n     </g>\r\n    </g>\r\n    <g id=\"ytick_5\">\r\n     <g id=\"line2d_8\">\r\n      <g>\r\n       <use style=\"stroke:#000000;stroke-width:0.8;\" x=\"58.523438\" xlink:href=\"#m9b7162f2e8\" y=\"115.83948\"/>\r\n      </g>\r\n     </g>\r\n     <g id=\"text_9\">\r\n      <!-- 0.15 -->\r\n      <g transform=\"translate(29.257813 119.638699)scale(0.1 -0.1)\">\r\n       <use xlink:href=\"#DejaVuSans-48\"/>\r\n       <use x=\"63.623047\" xlink:href=\"#DejaVuSans-46\"/>\r\n       <use x=\"95.410156\" xlink:href=\"#DejaVuSans-49\"/>\r\n       <use x=\"159.033203\" xlink:href=\"#DejaVuSans-53\"/>\r\n      </g>\r\n     </g>\r\n    </g>\r\n    <g id=\"ytick_6\">\r\n     <g id=\"line2d_9\">\r\n      <g>\r\n       <use style=\"stroke:#000000;stroke-width:0.8;\" x=\"58.523438\" xlink:href=\"#m9b7162f2e8\" y=\"89.629415\"/>\r\n      </g>\r\n     </g>\r\n     <g id=\"text_10\">\r\n      <!-- 0.20 -->\r\n      <defs>\r\n       <path d=\"M 19.1875 8.296875 \r\nL 53.609375 8.296875 \r\nL 53.609375 0 \r\nL 7.328125 0 \r\nL 7.328125 8.296875 \r\nQ 12.9375 14.109375 22.625 23.890625 \r\nQ 32.328125 33.6875 34.8125 36.53125 \r\nQ 39.546875 41.84375 41.421875 45.53125 \r\nQ 43.3125 49.21875 43.3125 52.78125 \r\nQ 43.3125 58.59375 39.234375 62.25 \r\nQ 35.15625 65.921875 28.609375 65.921875 \r\nQ 23.96875 65.921875 18.8125 64.3125 \r\nQ 13.671875 62.703125 7.8125 59.421875 \r\nL 7.8125 69.390625 \r\nQ 13.765625 71.78125 18.9375 73 \r\nQ 24.125 74.21875 28.421875 74.21875 \r\nQ 39.75 74.21875 46.484375 68.546875 \r\nQ 53.21875 62.890625 53.21875 53.421875 \r\nQ 53.21875 48.921875 51.53125 44.890625 \r\nQ 49.859375 40.875 45.40625 35.40625 \r\nQ 44.1875 33.984375 37.640625 27.21875 \r\nQ 31.109375 20.453125 19.1875 8.296875 \r\nz\r\n\" id=\"DejaVuSans-50\"/>\r\n      </defs>\r\n      <g transform=\"translate(29.257813 93.428633)scale(0.1 -0.1)\">\r\n       <use xlink:href=\"#DejaVuSans-48\"/>\r\n       <use x=\"63.623047\" xlink:href=\"#DejaVuSans-46\"/>\r\n       <use x=\"95.410156\" xlink:href=\"#DejaVuSans-50\"/>\r\n       <use x=\"159.033203\" xlink:href=\"#DejaVuSans-48\"/>\r\n      </g>\r\n     </g>\r\n    </g>\r\n    <g id=\"ytick_7\">\r\n     <g id=\"line2d_10\">\r\n      <g>\r\n       <use style=\"stroke:#000000;stroke-width:0.8;\" x=\"58.523438\" xlink:href=\"#m9b7162f2e8\" y=\"63.419349\"/>\r\n      </g>\r\n     </g>\r\n     <g id=\"text_11\">\r\n      <!-- 0.25 -->\r\n      <g transform=\"translate(29.257813 67.218568)scale(0.1 -0.1)\">\r\n       <use xlink:href=\"#DejaVuSans-48\"/>\r\n       <use x=\"63.623047\" xlink:href=\"#DejaVuSans-46\"/>\r\n       <use x=\"95.410156\" xlink:href=\"#DejaVuSans-50\"/>\r\n       <use x=\"159.033203\" xlink:href=\"#DejaVuSans-53\"/>\r\n      </g>\r\n     </g>\r\n    </g>\r\n    <g id=\"ytick_8\">\r\n     <g id=\"line2d_11\">\r\n      <g>\r\n       <use style=\"stroke:#000000;stroke-width:0.8;\" x=\"58.523438\" xlink:href=\"#m9b7162f2e8\" y=\"37.209284\"/>\r\n      </g>\r\n     </g>\r\n     <g id=\"text_12\">\r\n      <!-- 0.30 -->\r\n      <defs>\r\n       <path d=\"M 40.578125 39.3125 \r\nQ 47.65625 37.796875 51.625 33 \r\nQ 55.609375 28.21875 55.609375 21.1875 \r\nQ 55.609375 10.40625 48.1875 4.484375 \r\nQ 40.765625 -1.421875 27.09375 -1.421875 \r\nQ 22.515625 -1.421875 17.65625 -0.515625 \r\nQ 12.796875 0.390625 7.625 2.203125 \r\nL 7.625 11.71875 \r\nQ 11.71875 9.328125 16.59375 8.109375 \r\nQ 21.484375 6.890625 26.8125 6.890625 \r\nQ 36.078125 6.890625 40.9375 10.546875 \r\nQ 45.796875 14.203125 45.796875 21.1875 \r\nQ 45.796875 27.640625 41.28125 31.265625 \r\nQ 36.765625 34.90625 28.71875 34.90625 \r\nL 20.21875 34.90625 \r\nL 20.21875 43.015625 \r\nL 29.109375 43.015625 \r\nQ 36.375 43.015625 40.234375 45.921875 \r\nQ 44.09375 48.828125 44.09375 54.296875 \r\nQ 44.09375 59.90625 40.109375 62.90625 \r\nQ 36.140625 65.921875 28.71875 65.921875 \r\nQ 24.65625 65.921875 20.015625 65.03125 \r\nQ 15.375 64.15625 9.8125 62.3125 \r\nL 9.8125 71.09375 \r\nQ 15.4375 72.65625 20.34375 73.4375 \r\nQ 25.25 74.21875 29.59375 74.21875 \r\nQ 40.828125 74.21875 47.359375 69.109375 \r\nQ 53.90625 64.015625 53.90625 55.328125 \r\nQ 53.90625 49.265625 50.4375 45.09375 \r\nQ 46.96875 40.921875 40.578125 39.3125 \r\nz\r\n\" id=\"DejaVuSans-51\"/>\r\n      </defs>\r\n      <g transform=\"translate(29.257813 41.008503)scale(0.1 -0.1)\">\r\n       <use xlink:href=\"#DejaVuSans-48\"/>\r\n       <use x=\"63.623047\" xlink:href=\"#DejaVuSans-46\"/>\r\n       <use x=\"95.410156\" xlink:href=\"#DejaVuSans-51\"/>\r\n       <use x=\"159.033203\" xlink:href=\"#DejaVuSans-48\"/>\r\n      </g>\r\n     </g>\r\n    </g>\r\n    <g id=\"ytick_9\">\r\n     <g id=\"line2d_12\">\r\n      <g>\r\n       <use style=\"stroke:#000000;stroke-width:0.8;\" x=\"58.523438\" xlink:href=\"#m9b7162f2e8\" y=\"10.999219\"/>\r\n      </g>\r\n     </g>\r\n     <g id=\"text_13\">\r\n      <!-- 0.35 -->\r\n      <g transform=\"translate(29.257813 14.798437)scale(0.1 -0.1)\">\r\n       <use xlink:href=\"#DejaVuSans-48\"/>\r\n       <use x=\"63.623047\" xlink:href=\"#DejaVuSans-46\"/>\r\n       <use x=\"95.410156\" xlink:href=\"#DejaVuSans-51\"/>\r\n       <use x=\"159.033203\" xlink:href=\"#DejaVuSans-53\"/>\r\n      </g>\r\n     </g>\r\n    </g>\r\n    <g id=\"text_14\">\r\n     <!-- sentiment -->\r\n     <defs>\r\n      <path d=\"M 54.890625 33.015625 \r\nL 54.890625 0 \r\nL 45.90625 0 \r\nL 45.90625 32.71875 \r\nQ 45.90625 40.484375 42.875 44.328125 \r\nQ 39.84375 48.1875 33.796875 48.1875 \r\nQ 26.515625 48.1875 22.3125 43.546875 \r\nQ 18.109375 38.921875 18.109375 30.90625 \r\nL 18.109375 0 \r\nL 9.078125 0 \r\nL 9.078125 54.6875 \r\nL 18.109375 54.6875 \r\nL 18.109375 46.1875 \r\nQ 21.34375 51.125 25.703125 53.5625 \r\nQ 30.078125 56 35.796875 56 \r\nQ 45.21875 56 50.046875 50.171875 \r\nQ 54.890625 44.34375 54.890625 33.015625 \r\nz\r\n\" id=\"DejaVuSans-110\"/>\r\n      <path d=\"M 18.3125 70.21875 \r\nL 18.3125 54.6875 \r\nL 36.8125 54.6875 \r\nL 36.8125 47.703125 \r\nL 18.3125 47.703125 \r\nL 18.3125 18.015625 \r\nQ 18.3125 11.328125 20.140625 9.421875 \r\nQ 21.96875 7.515625 27.59375 7.515625 \r\nL 36.8125 7.515625 \r\nL 36.8125 0 \r\nL 27.59375 0 \r\nQ 17.1875 0 13.234375 3.875 \r\nQ 9.28125 7.765625 9.28125 18.015625 \r\nL 9.28125 47.703125 \r\nL 2.6875 47.703125 \r\nL 2.6875 54.6875 \r\nL 9.28125 54.6875 \r\nL 9.28125 70.21875 \r\nz\r\n\" id=\"DejaVuSans-116\"/>\r\n      <path d=\"M 52 44.1875 \r\nQ 55.375 50.25 60.0625 53.125 \r\nQ 64.75 56 71.09375 56 \r\nQ 79.640625 56 84.28125 50.015625 \r\nQ 88.921875 44.046875 88.921875 33.015625 \r\nL 88.921875 0 \r\nL 79.890625 0 \r\nL 79.890625 32.71875 \r\nQ 79.890625 40.578125 77.09375 44.375 \r\nQ 74.3125 48.1875 68.609375 48.1875 \r\nQ 61.625 48.1875 57.5625 43.546875 \r\nQ 53.515625 38.921875 53.515625 30.90625 \r\nL 53.515625 0 \r\nL 44.484375 0 \r\nL 44.484375 32.71875 \r\nQ 44.484375 40.625 41.703125 44.40625 \r\nQ 38.921875 48.1875 33.109375 48.1875 \r\nQ 26.21875 48.1875 22.15625 43.53125 \r\nQ 18.109375 38.875 18.109375 30.90625 \r\nL 18.109375 0 \r\nL 9.078125 0 \r\nL 9.078125 54.6875 \r\nL 18.109375 54.6875 \r\nL 18.109375 46.1875 \r\nQ 21.1875 51.21875 25.484375 53.609375 \r\nQ 29.78125 56 35.6875 56 \r\nQ 41.65625 56 45.828125 52.96875 \r\nQ 50 49.953125 52 44.1875 \r\nz\r\n\" id=\"DejaVuSans-109\"/>\r\n     </defs>\r\n     <g transform=\"translate(14.798438 143.023055)rotate(-90)scale(0.1 -0.1)\">\r\n      <use xlink:href=\"#DejaVuSans-115\"/>\r\n      <use x=\"52.099609\" xlink:href=\"#DejaVuSans-101\"/>\r\n      <use x=\"113.623047\" xlink:href=\"#DejaVuSans-110\"/>\r\n      <use x=\"177.001953\" xlink:href=\"#DejaVuSans-116\"/>\r\n      <use x=\"216.210938\" xlink:href=\"#DejaVuSans-105\"/>\r\n      <use x=\"243.994141\" xlink:href=\"#DejaVuSans-109\"/>\r\n      <use x=\"341.40625\" xlink:href=\"#DejaVuSans-101\"/>\r\n      <use x=\"402.929688\" xlink:href=\"#DejaVuSans-110\"/>\r\n      <use x=\"466.308594\" xlink:href=\"#DejaVuSans-116\"/>\r\n     </g>\r\n    </g>\r\n   </g>\r\n   <g id=\"line2d_13\">\r\n    <path clip-path=\"url(#p15528081b8)\" style=\"fill:none;stroke:#424242;stroke-linecap:square;stroke-width:2.7;\"/>\r\n   </g>\r\n   <g id=\"line2d_14\">\r\n    <path clip-path=\"url(#p15528081b8)\" style=\"fill:none;stroke:#424242;stroke-linecap:square;stroke-width:2.7;\"/>\r\n   </g>\r\n   <g id=\"line2d_15\">\r\n    <path clip-path=\"url(#p15528081b8)\" style=\"fill:none;stroke:#424242;stroke-linecap:square;stroke-width:2.7;\"/>\r\n   </g>\r\n   <g id=\"patch_6\">\r\n    <path d=\"M 58.523438 226.468055 \r\nL 58.523438 9.028055 \r\n\" style=\"fill:none;stroke:#000000;stroke-linecap:square;stroke-linejoin:miter;stroke-width:0.8;\"/>\r\n   </g>\r\n   <g id=\"patch_7\">\r\n    <path d=\"M 393.323438 226.468055 \r\nL 393.323438 9.028055 \r\n\" style=\"fill:none;stroke:#000000;stroke-linecap:square;stroke-linejoin:miter;stroke-width:0.8;\"/>\r\n   </g>\r\n   <g id=\"patch_8\">\r\n    <path d=\"M 58.523438 226.468055 \r\nL 393.323438 226.468055 \r\n\" style=\"fill:none;stroke:#000000;stroke-linecap:square;stroke-linejoin:miter;stroke-width:0.8;\"/>\r\n   </g>\r\n   <g id=\"patch_9\">\r\n    <path d=\"M 58.523438 9.028055 \r\nL 393.323438 9.028055 \r\n\" style=\"fill:none;stroke:#000000;stroke-linecap:square;stroke-linejoin:miter;stroke-width:0.8;\"/>\r\n   </g>\r\n  </g>\r\n </g>\r\n <defs>\r\n  <clipPath id=\"p15528081b8\">\r\n   <rect height=\"217.44\" width=\"334.8\" x=\"58.523438\" y=\"9.028055\"/>\r\n  </clipPath>\r\n </defs>\r\n</svg>\r\n",
      "image/png": "[encoded data removed]"
     },
     "metadata": {
      "needs_background": "light"
     }
    }
   ],
   "source": [
    "import seaborn as sns\n",
    "\n",
    "meanSentiments = headlines.groupby('source').mean()\n",
    "\n",
    "meanSentiments['sentiment']\n",
    "\n",
    "sns.barplot(x=meanSentiments['sentiment'].index, y=meanSentiments['sentiment'])"
   ]
  }
 ]
}